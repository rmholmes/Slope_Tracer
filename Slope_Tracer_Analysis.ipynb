{
 "cells": [
  {
   "cell_type": "markdown",
   "metadata": {
    "ein.tags": "worksheet-0",
    "slideshow": {
     "slide_type": "-"
    }
   },
   "source": [
    "# Dedalus script for 2D tracer adv-dif on a slope Analysis\n",
    "## Ryan Holmes"
   ]
  },
  {
   "cell_type": "code",
   "execution_count": null,
   "metadata": {
    "autoscroll": false,
    "ein.tags": "worksheet-0",
    "slideshow": {
     "slide_type": "-"
    }
   },
   "outputs": [],
   "source": [
    "# Load modules\n",
    "import numpy as np\n",
    "import h5py\n",
    "import matplotlib\n",
    "import shutil\n",
    "import os\n",
    "from matplotlib import rc\n",
    "#rc('font',**{'family':'sans-serif','sans-serif':['Helvetica']})\n",
    "rc('text', usetex=True)\n",
    "matplotlib.rcParams[\"figure.facecolor\"] = \"white\"\n",
    "matplotlib.rcParams[\"axes.facecolor\"] = \"white\"\n",
    "matplotlib.rcParams[\"savefig.facecolor\"] = \"white\"\n",
    "import matplotlib.pyplot as plt\n",
    "import matplotlib.colors as mcolors\n",
    "%matplotlib inline\n",
    "from mpi4py import MPI\n",
    "from scipy.special import erf\n",
    "import time\n",
    "from IPython import display\n",
    "\n",
    "from dedalus import public as de\n",
    "from dedalus.extras import flow_tools\n",
    "\n",
    "from dedalus.tools import post\n",
    "import pathlib\n",
    "from dedalus.extras import plot_tools"
   ]
  },
  {
   "cell_type": "markdown",
   "metadata": {
    "ein.tags": "worksheet-0",
    "slideshow": {
     "slide_type": "-"
    }
   },
   "source": [
    "## Post-process runs"
   ]
  },
  {
   "cell_type": "code",
   "execution_count": null,
   "metadata": {
    "autoscroll": false,
    "ein.tags": "worksheet-0",
    "slideshow": {
     "slide_type": "-"
    }
   },
   "outputs": [],
   "source": [
    "# Merge snapshots from different processes:\n",
    "# snapshots\n",
    "post.merge_process_files(\"snapshots\", cleanup=True)\n",
    "set_paths = list(pathlib.Path(\"snapshots\").glob(\"snapshots_s*.h5\"))\n",
    "post.merge_sets(\"snapshots/snapshots.h5\", set_paths, cleanup=True)\n",
    "# ifields\n",
    "post.merge_process_files(\"ifields\", cleanup=True)\n",
    "set_paths = list(pathlib.Path(\"ifields\").glob(\"ifields_s*.h5\"))\n",
    "post.merge_sets(\"ifields/ifields.h5\", set_paths, cleanup=True)\n"
   ]
  },
  {
   "cell_type": "code",
   "execution_count": null,
   "metadata": {
    "autoscroll": false,
    "ein.tags": "worksheet-0",
    "slideshow": {
     "slide_type": "-"
    }
   },
   "outputs": [],
   "source": [
    "# Copy output files to new folder\n",
    "outdir = 'saveRUNS/tmp/testrun/'\n",
    "\n",
    "os.makedirs(outdir, exist_ok=True)\n",
    "shutil.move('snapshots/snapshots.h5',outdir + 'snapshots.h5');\n",
    "shutil.move('ifields/ifields.h5',outdir + 'ifields.h5');\n",
    "shutil.move('runparams.npz',outdir + 'runparams.npz');"
   ]
  },
  {
   "cell_type": "markdown",
   "metadata": {
    "ein.tags": "worksheet-0",
    "slideshow": {
     "slide_type": "-"
    }
   },
   "source": [
    "## Analyse runs"
   ]
  },
  {
   "cell_type": "code",
   "execution_count": null,
   "metadata": {
    "autoscroll": false,
    "ein.tags": "worksheet-0",
    "slideshow": {
     "slide_type": "-"
    }
   },
   "outputs": [],
   "source": [
    "basedir = '/srv/ccrc/data03/z3500785/dedalus_Slope_Tracer/saveRUNS/prodruns24-5-19/';\n",
    "savedir = '/home/z3500785/Cloud/Research/Data_Analysis/Bottom_Mixing_McDougall/dedalus/Slope_Tracer/Analysis_Figures/prodruns24-5-19/'"
   ]
  },
  {
   "cell_type": "code",
   "execution_count": null,
   "metadata": {
    "autoscroll": false,
    "ein.tags": "worksheet-0",
    "slideshow": {
     "slide_type": "-"
    }
   },
   "outputs": [],
   "source": [
    "# display file contents\n",
    "with h5py.File(basedir + 'z0_2p0000_AH_000_Kinf_m5_ADV_2_slope_400/snapshots.h5', mode='r') as file:\n",
    "    print(list(file['scales'].keys()))\n",
    "    print(file['tasks/tr'])"
   ]
  },
  {
   "cell_type": "markdown",
   "metadata": {
    "ein.tags": "worksheet-0",
    "slideshow": {
     "slide_type": "-"
    }
   },
   "source": [
    "### Input fields"
   ]
  },
  {
   "cell_type": "code",
   "execution_count": null,
   "metadata": {
    "autoscroll": false,
    "ein.tags": "worksheet-0",
    "slideshow": {
     "slide_type": "-"
    }
   },
   "outputs": [],
   "source": [
    "#runs = [basedir + 'z0_0p5000_AH_000_Kinf_m3_ADV_2_slope_400/'];\n",
    "runs = [basedir + 'z0_0p5000_AH_000_Kinf_m%s_ADV_2_slope_400/' % x for x in [3,4,5]] + [basedir + 'z0_0p5000_AH_000_Kinf_m5_ADV_2_slope_100/']# + [basedir + 'z0_0p5000_AH_000_Kinf_m5_ADV_%s_slope_400/' % x for x in [1]]\n",
    "labs = ['Constant $\\kappa=10^{-3}$m$^2$s$^{-1}$','$\\kappa_\\infty=10^{-4}$m$^2$s$^{-1}$','$\\kappa_\\infty=10^{-5}$m$^2$s$^{-1}$','$\\kappa_\\infty=10^{-5}$m$^2$s$^{-1}$, slope = 1/100','$\\kappa_\\infty=10^{-5}$m$^2$s$^{-1}$ no $V^{SML}$']\n",
    "#runs = [basedir + ('z0_0p5000_AH_000_Kinf_m5_ADV_2_slope_%03d/' % x) for x in [100,200,400]]\n",
    "#labs = ['1/100','1/200','1/300']\n",
    "params = np.load(runs[0] + 'runparams.npz');locals().update(params)\n",
    "colors = ['k.-','r.-','b.-','g.-','m.','y.-'];\n",
    "\n",
    "# Setup figure:\n",
    "fig = plt.figure(figsize=(11, 5), facecolor='w')\n",
    "axisV = plt.subplot(1,3,1)\n",
    "axisV.set_xlabel(r'$V$ (cms$^{-1}$)')\n",
    "axisV.set_ylabel(r'z (m)')\n",
    "axisV.set_ylim([0.,Lz/5.])\n",
    "axisV.grid()\n",
    "axisV.set_title('Upslope Velocity')\n",
    "axisB = plt.subplot(1,3,2)\n",
    "axisB.set_xlabel(r'$\\frac{\\partial B}{\\partial z}$ ($10^{-6}$s$^{-2}$)')\n",
    "axisB.set_ylim([0.,Lz/5.])\n",
    "axisB.axes.get_yaxis().set_ticklabels([])\n",
    "axisB.grid()\n",
    "axisB.set_title('Buoyancy Frequency')\n",
    "axisK = plt.subplot(1,3,3)\n",
    "axisK.set_xlabel(r'$\\kappa$ (cm$^2$s$^{-1}$)')\n",
    "axisK.set_ylim([0.,Lz/5.])\n",
    "axisK.axes.get_yaxis().set_ticklabels([])\n",
    "axisK.grid()\n",
    "axisK.set_title('Isotropic Diffusivity')\n",
    "panlabs = ['a','b','c','d','e','f','g','h','i','j','k','l']\n",
    "\n",
    "\n",
    "for ii in range(0,len(runs)):\n",
    "    params = np.load(runs[ii] + 'runparams.npz');locals().update(params)\n",
    "    with h5py.File(runs[ii] + 'ifields.h5', mode='r') as file:\n",
    "        y = file['scales/y/1.0'][:];z = file['scales/z/1.0'][:];\n",
    "        V = file['tasks/V'][0,0,:];K = file['tasks/K'][0,0,:];\n",
    "        Bz = file['tasks/Bz'][0,0,:];\n",
    "        axisV.plot(V*100.0,z.T,colors[ii], linewidth=2.,label=labs[ii]);\n",
    "        axisB.plot(Bz*1.e6,z.T,colors[ii], linewidth=2.);\n",
    "        axisK.plot((K)/1.0e-4,z.T,colors[ii], linewidth=2.);\n",
    "#axisV.legend(title='Slope')\n",
    "\n",
    "xlims = axisV.get_xlim();ylims = axisV.get_ylim();\n",
    "axisV.text(xlims[0]+0.02*(xlims[1]-xlims[0]),ylims[0]+0.93*(ylims[1]-ylims[0]),panlabs[0],fontsize=25,fontweight='bold')\n",
    "xlims = axisB.get_xlim();ylims = axisB.get_ylim();\n",
    "axisB.text(xlims[0]+0.02*(xlims[1]-xlims[0]),ylims[0]+0.93*(ylims[1]-ylims[0]),panlabs[1],fontsize=25,fontweight='bold')\n",
    "xlims = axisK.get_xlim();ylims = axisK.get_ylim();\n",
    "axisK.text(xlims[0]+0.02*(xlims[1]-xlims[0]),ylims[0]+0.93*(ylims[1]-ylims[0]),panlabs[2],fontsize=25,fontweight='bold')\n",
    "\n",
    "axisV.legend()\n",
    "plt.tight_layout()\n",
    "plt.savefig(savedir + 'Input_VKBz.pdf')\n"
   ]
  },
  {
   "cell_type": "markdown",
   "metadata": {
    "ein.tags": "worksheet-0",
    "slideshow": {
     "slide_type": "-"
    }
   },
   "source": [
    "### Tracer Distribution"
   ]
  },
  {
   "cell_type": "code",
   "execution_count": null,
   "metadata": {
    "autoscroll": false,
    "ein.tags": "worksheet-0",
    "slideshow": {
     "slide_type": "-"
    }
   },
   "outputs": [],
   "source": [
    "# Simple plotting:\n",
    "#names = ['z0_' + x + '_AH_000_Kinf_m5_ADV_2_slope_400' for x in ['2p0000','1p0000','0p5000','0p2500','0p1250','0p0625']]\n",
    "#names = ['z0_0p5000_AH_000_Kinf_m%s_ADV_2_slope_400' % x for x in [3,4,5]] + ['z0_0p5000_AH_000_Kinf_m5_ADV_%s_slope_400' % x for x in [0,1]]\n",
    "#names = ['z0_0p5000_AH_000_Kinf_m5_ADV_2_slope_%03d' % x for x in [100,200,400]]\n",
    "#names = ['z0_0p5000_AH_%03d_Kinf_m5_ADV_2_slope_400' % x for x in [0,1,5,10,50,100]]\n",
    "#names = ['z0_0p5000_AH_000_Kinf_m5_ADV_2_slope_400']\n",
    "\n",
    "for fi in range(0,len(names)):\n",
    "    name = names[fi]\n",
    "    outdir = basedir + name + '/'\n",
    "    params = np.load(outdir + 'runparams.npz');locals().update(params)\n",
    "    snaps = outdir + 'snapshots.h5';\n",
    "    fig = plt.figure(figsize=(20, 8), facecolor='w')\n",
    "    tts = [round(x) for x in np.linspace(0,Itot/sfreq*3./4.-1,4)]\n",
    "    for ii in range(len(tts)):#range(0,49):\n",
    "        axisTR = plt.subplot(2,2,ii+1)\n",
    "        axisTR.set_xlabel(r'True y (km)');axisTR.set_ylabel(r'True z (m)');axisTR.set_title(r'Tracer Concentration')\n",
    "        axisTR.set_xlim([0,Ly/1.e3]);axisTR.set_ylim([0.,Lz + slope*Ly]);axisTR.set_facecolor('k')\n",
    "\n",
    "        with h5py.File(snaps, mode='r') as file:\n",
    "            y = file['scales/y/1.0'][:];z = file['scales/z/1.0'][:];\n",
    "            dy = y[1:]-y[:-1];dz = z[1:]-z[:-1];\n",
    "            dA = np.tile(dy,[len(z)-1,1]).T*np.tile(dz,[len(y)-1,1]);\n",
    "            ym, zm = np.meshgrid(y,z)\n",
    "            zt = np.cos(theta)*zm + np.sin(theta)*ym;\n",
    "            yt = -np.sin(theta)*zm + np.cos(theta)*ym # Rotated Coordinates\n",
    "            B = N2*np.sin(theta)*ym + N2*np.cos(theta)*(zm + np.exp(-q0*zm)*np.cos(q0*zm)/q0)\n",
    "            t = file['scales/sim_time'][:]/lday;\n",
    "            trT = file['tasks']['trT'][:,0,0]\n",
    "            tr = file['tasks']['tr'][tts[ii],:,:]\n",
    "#            p = axisTR.pcolormesh(yt/1.e3, zt, tr.T, cmap='RdBu', vmin=0., vmax=0.15)#np.max(tr)/);#GnBu\n",
    "            p = axisTR.contourf(yt/1.e3, zt, tr.T, cmap='magma_r', levels=np.arange(0.,np.max(tr),np.max(tr)/26),extend='both')#np.max(tr)/);#GnBu\n",
    "\n",
    "        # Add buoyancy contours\n",
    "        plt.contour(yt/1.0e3, zt, B, 15, colors='k')\n",
    "        axisTR.plot(y/1.0e3, slope*y,'k-', linewidth=4.)\n",
    "        plt.colorbar(p, ax = axisTR)\n",
    "        plt.title(titles[fi] + ('Day %d' % t[tts[ii]]))\n",
    "        ax = plt.gca()\n",
    "        # ax.set_ylim([400.,2000.])\n",
    "        # ax.set_xlim([100.,900.])\n",
    "\n",
    "    plt.tight_layout()\n",
    "#    plt.savefig(savedir + name + 'TrConcMgma.png')    \n"
   ]
  },
  {
   "cell_type": "code",
   "execution_count": null,
   "metadata": {
    "autoscroll": false,
    "ein.tags": "worksheet-0",
    "slideshow": {
     "slide_type": "-"
    }
   },
   "outputs": [],
   "source": [
    "np.arange(0.,mx+mx/48,mx/48)"
   ]
  },
  {
   "cell_type": "code",
   "execution_count": null,
   "metadata": {
    "autoscroll": false,
    "ein.tags": "worksheet-0",
    "slideshow": {
     "slide_type": "-"
    }
   },
   "outputs": [],
   "source": [
    "# Combination Plotting:\n",
    "# names = ['z0_' + x + '_AH_000_Kinf_m5_ADV_2_slope_400' for x in ['1p0000','0p5000','0p1250']]\n",
    "# titles = ['$z_0=d=500$m','$z_0=d/2=250$m','$z_0=d/8=62.5$m']\n",
    "#names = ['z0_0p5000_AH_000_Kinf_m%s_ADV_2_slope_400' % x for x in [3,4,5]] + ['z0_0p5000_AH_000_Kinf_m5_ADV_%s_slope_400' % x for x in [0,1]]\n",
    "# names = ['z0_0p5000_AH_000_Kinf_m5_ADV_%s_slope_400' % x for x in [0,1,2]]\n",
    "# titles = ['No Advection','BBL Advection Only','SML and BBL Advection']\n",
    "# names = ['z0_0p5000_AH_000_Kinf_m5_ADV_2_slope_%03d' % x for x in [100,200,400]]\n",
    "# titles = ['Slope = 1/100','Slope = 1/200','Slope = 1/400']\n",
    "names = ['z0_0p5000_AH_%03d_Kinf_m5_ADV_2_slope_400' % x for x in [0,5,50]]\n",
    "titles = ['No Isopycnal Diffusion','$A_H=5$m$^2$s$^{-1}$','$A_H=50$m$^2$s$^{-1}$']\n",
    "# names = ['z0_0p5000_AH_000_Kinf_m5_ADV_2_slope_400']\n",
    "panlabs = ['a','b','c','d','e','f','g','h','i','j','k','l']\n",
    "\n",
    "plts = [1,4,2,5,3,6]\n",
    "#plts = [1,4,7,2,5,8,3,6,9]\n",
    "fig = plt.figure(figsize=(20, 8), facecolor='w')\n",
    "for fi in range(0,len(names)):\n",
    "    name = names[fi]\n",
    "    outdir = basedir + name + '/'\n",
    "    params = np.load(outdir + 'runparams.npz');locals().update(params)\n",
    "    snaps = outdir + 'snapshots.h5';\n",
    "#    tts = [round(x) for x in np.linspace(0,Itot/sfreq*3./4.-1,4)]\n",
    "#    tts = [100, 200]\n",
    "    tts = [50, 100]\n",
    "#    tts = [10, 20]\n",
    "    #tts = [round(x) for x in [Itot/sfreq-1]]\n",
    "    for ii in range(len(tts)):#range(0,49):\n",
    "        axisTR = plt.subplot(2,3,plts[fi*2+ii])\n",
    "        axisTR.set_xlabel(r'True y (km)');axisTR.set_ylabel(r'True z (m)');axisTR.set_title(r'Tracer Concentration')\n",
    "        axisTR.set_xlim([0,Ly/1.e3]);axisTR.set_ylim([0.,Lz + slope*Ly]);axisTR.set_facecolor('k')\n",
    "        with h5py.File(snaps, mode='r') as file:\n",
    "            y = file['scales/y/1.0'][:];z = file['scales/z/1.0'][:];\n",
    "            dy = y[1:]-y[:-1];dz = z[1:]-z[:-1];\n",
    "            dA = np.tile(dy,[len(z)-1,1]).T*np.tile(dz,[len(y)-1,1]);\n",
    "            ym, zm = np.meshgrid(y,z)\n",
    "            zt = np.cos(theta)*zm + np.sin(theta)*ym;\n",
    "            yt = -np.sin(theta)*zm + np.cos(theta)*ym # Rotated Coordinates\n",
    "            B = N2*np.sin(theta)*ym + N2*np.cos(theta)*(zm + np.exp(-q0*zm)*np.cos(q0*zm)/q0)\n",
    "            t = file['scales/sim_time'][:]/lday;\n",
    "            trT = file['tasks']['trT'][:,0,0]\n",
    "            tr = file['tasks']['tr'][tts[ii],:,:]\n",
    "            zm1 = file['tasks']['zm1i'][tts[ii],0,0];\n",
    "            muz = zm1/trT\n",
    "            ym1 = file['tasks']['ym1i'][tts[ii],0,0];\n",
    "            muy = ym1/trT\n",
    "            #            p = axisTR.pcolormesh(yt/1.e3, zt, tr.T, cmap='RdBu', vmin=0., vmax=0.15)#np.max(tr)/);#GnBu\n",
    "            #            mx = np.max(tr)\n",
    "            if ii == 0:\n",
    "                mx = 0.05\n",
    "            else:\n",
    "                mx = 0.05\n",
    "            p = axisTR.contourf(yt/1.e3, zt, tr.T, cmap='magma_r', levels=np.arange(0.,mx+mx/40,mx/40),extend='both')#np.max(tr)/);#GnBu\n",
    "            # cbar = plt.colorbar(PCM, ax=axisTR)\n",
    "            # cbar.set_ticks(np.arange(0.,mx,mx/5))\n",
    "            # cbar.set_ticklabels(np.arange(0.,mx,mx/5))\n",
    "            plt.plot((-np.sin(theta)*cz + np.cos(theta)*cy)/1e3,np.cos(theta)*cz+np.sin(theta)*cy,'og',mew=4,ms=12)\n",
    "            plt.plot((-np.sin(theta)*muz + np.cos(theta)*muy)/1e3,np.cos(theta)*muz+np.sin(theta)*muy,'xb',mew=4,ms=12)\n",
    "            \n",
    "        # Add buoyancy contours\n",
    "        plt.contour(yt/1.0e3, zt, B, 30, colors='k')\n",
    "        axisTR.plot(y/1.0e3, slope*y,'k-', linewidth=4.)\n",
    "        plt.colorbar(p, ax = axisTR)\n",
    "        plt.title(titles[fi] + ('  Day %d' % t[tts[ii]]))\n",
    "        # axisTR.set_ylim([750.,1500.])\n",
    "        # axisTR.set_xlim([280.,450.])\n",
    "        axisTR.set_ylim([200.,2500.])\n",
    "        axisTR.set_xlim([0.,900.])\n",
    "        # if fi == 0:\n",
    "        #     axisTR.set_ylim([3000.,5000.])\n",
    "        # elif fi == 1:\n",
    "        #     axisTR.set_ylim([1500.,3500.])\n",
    "        # else:\n",
    "        #     axisTR.set_ylim([500., 2500.])\n",
    "        # axisTR.set_xlim([150.,700.])\n",
    "        xlims = axisTR.get_xlim()\n",
    "        ylims = axisTR.get_ylim()\n",
    "        txt = axisTR.text(xlims[0]+0.02*(xlims[1]-xlims[0]),ylims[0]+0.9*(ylims[1]-ylims[0]),panlabs[plts[fi*2+ii]-1],fontsize=25,fontweight='bold')\n",
    "        txt.set_color('white')\n",
    "\n",
    "plt.tight_layout()\n",
    "plt.savefig(savedir + 'TrConcMgma_AH.png',dpi=200)    \n"
   ]
  },
  {
   "cell_type": "markdown",
   "metadata": {
    "ein.tags": "worksheet-0",
    "slideshow": {
     "slide_type": "-"
    }
   },
   "source": [
    "### Buoyancy distribution and moments"
   ]
  },
  {
   "cell_type": "code",
   "execution_count": null,
   "metadata": {
    "autoscroll": false,
    "ein.tags": "worksheet-0",
    "slideshow": {
     "slide_type": "-"
    }
   },
   "outputs": [],
   "source": [
    "fig = plt.figure(figsize=(10, 5), facecolor='w')\n",
    "ab0 = plt.subplot2grid((3,2),(0,0), colspan=1, rowspan=3)\n",
    "ab1 = plt.subplot2grid((3,2),(0,1));\n",
    "ab2 = plt.subplot2grid((3,2),(1,1));\n",
    "ab3 = plt.subplot2grid((3,2),(2,1));\n",
    "ab0.set_ylabel(r'$b\\,\\, (10^{-4} ms^{-2})$');ab0.set_xlabel('Tracer Concentration (tr / (ms$^{-2}$))');\n",
    "ab0.set_title('Tracer Distribution')\n",
    "ab0.set_ylim([0.,30.]);\n",
    "ab1.set_ylabel(r'$b\\,\\, (10^{-4} ms^{-2})$');ab1.set_title('Centre of mass $\\mu_b$');\n",
    "ab1.grid()\n",
    "ab2.set_ylabel(r'$b\\,\\, (10^{-4} ms^{-2})$');ab2.set_title('Standard deviation $\\sigma_b$');\n",
    "ab2.grid()\n",
    "ab3.set_ylabel(r'$\\kappa_{eff}\\,\\, (cm^2s^{-1})$');ab3.set_title('Effective diffusivity from second moment');\n",
    "ab3.set_xlabel('Days')\n",
    "ab3.grid()\n",
    "panlabs = ['a','b','c','d','e','f','g','h','i','j','k','l']\n",
    "\n",
    "# runs = [basedir + 'z0_' + x + '_AH_000_Kinf_m5_ADV_2_slope_400/' for x in ['1p0000','0p5000','0p1250']]\n",
    "# leglabel = ['$z_0=d=500$m','$z_0=d/2=250$m','$z_0=d/8=62.5$m']\n",
    "# runs = [basedir + 'z0_0p5000_AH_000_Kinf_m%s_ADV_2_slope_400/' % x for x in [3,5]] + [basedir + 'z0_0p5000_AH_000_Kinf_m5_ADV_%s_slope_400/' % x for x in [0,1]]\n",
    "# leglabel = [x.replace(basedir + 'z0_0p5000_AH_000_','').replace('_slope_400/','').replace('_',' ').replace('Kinf m','$\\kappa_\\infty = 10^{-').replace(' ADV 2','}m^2s^{-1}$ ').replace(' ADV 1','}m^2s^{-1}$ BBL V only').replace('ADV 0','}m^2s^{-1}$ no ADV') for x in runs]\n",
    "# runs = [basedir + 'z0_0p5000_AH_000_Kinf_m5_ADV_%s_slope_400/' % x for x in [2,1,0]]\n",
    "# leglabel = ['SML and BBL Advection','BBL Advection Only','No Advection']\n",
    "# runs = [basedir + 'z0_0p5000_AH_000_Kinf_m5_ADV_2_slope_%03d/' % x for x in [100,200,400]]\n",
    "# leglabel = ['1/100','1/200','1/400']\n",
    "runs = [basedir + 'z0_0p5000_AH_%03d_Kinf_m5_ADV_2_slope_400/' % x for x in [0,5,50]]\n",
    "leglabel = ['No Isopycnal Diffusion','$A_H=5$m$^2$s$^{-1}$','$A_H=50$m$^2$s$^{-1}$']\n",
    "# runs = [basedir + 'z0_0p5000_AH_000_Kinf_m5_ADV_2_slope_400' + x + '/' for x in ['','_4dt','_4dt_2dz']]# + [basedir + 'z0_0p5000_AH_050_Kinf_m5_ADV_2_slope_400' + x + '/' for x in ['','_4dt']]\n",
    "# leglabel = ['$\\Delta t=8$ days, 128 z modes','$\\Delta t=2$ days, 128 z modes','$\\Delta t=2$ days, 256 z modes']#'$\\Delta t=8$ days, $A_H=50$m$^2$s$^{-1}$','$\\Delta t=2$ days, $A_H=50$m$^2$s$^{-1}$']\n",
    "colors = ['g-','r-','b-','k-','y-','m-'];\n",
    "\n",
    "pfr = 16\n",
    "tifin = 200\n",
    "pfr = 8\n",
    "tifin = 100\n",
    "\n",
    "#runs = [runs[0]]\n",
    "\n",
    "for ii in range(0,len(runs)):\n",
    "\n",
    "    params = np.load(runs[ii] + 'runparams.npz');locals().update(params)\n",
    "    b = np.linspace(0,N2*np.cos(theta)*Lz + N2*np.sin(theta)*Ly,64);db = b[1]-b[0]\n",
    "    ba = (b[:-1]+b[1:])/2\n",
    "\n",
    "    with h5py.File(runs[ii] + 'ifields.h5', mode='r') as file:\n",
    "        B = file['tasks']['B'][0,:,:]\n",
    "        B = (B[1:,:] + B[:-1,:])/2\n",
    "        B = (B[:,1:] + B[:,:-1])/2\n",
    "        y = file['scales/y/1.0'][:];z = file['scales/z/1.0'][:];\n",
    "    dy = y[1:]-y[:-1];dz = z[1:]-z[:-1];\n",
    "    dA = np.tile(dy,[len(z)-1,1]).T*np.tile(dz,[len(y)-1,1]);\n",
    "\n",
    "    with h5py.File(runs[ii] + 'snapshots.h5', mode='r') as file:\n",
    "\n",
    "        t = file['scales/sim_time'][:]/lday;\n",
    "        trT = file['tasks']['trT'][:,0,0]\n",
    "\n",
    "        mub = np.zeros(len(t))\n",
    "        sigma2b = np.zeros(len(t))\n",
    "        xlims = [0.,t[tifin]]\n",
    "        for i in range(0,tifin,pfr):#len(t),pfr):\n",
    "            tr = file['tasks']['tr'][i,:,:]\n",
    "            tr = (tr[1:,:] + tr[:-1,:])/2\n",
    "            tr = (tr[:,1:] + tr[:,:-1])/2\n",
    "            tr = tr*dA\n",
    "            trC = [np.sum(tr[np.logical_and(B>=bi,B<(bi+db))])/db for bi in b[:-1]]\n",
    "            if i == 0:\n",
    "                ab0.plot(trC,(b[:-1]+b[1:])/2/1.e-4,colors[ii],label=leglabel[ii])\n",
    "            else:\n",
    "                ab0.plot(trC,(b[:-1]+b[1:])/2/1.e-4,colors[ii])\n",
    "#        ab0.legend(title='Horizontal Diffusivity $A_H$')\n",
    "#        ab0.legend(title='Initial Tracer Height $z_0$')\n",
    "        ab0.legend()\n",
    "        ab0.set_ylim([5.,18.])\n",
    "        ab0.set_xlim([0.,1.8e10])\n",
    "        zm1 = file['tasks']['zm1i'][:,0,0];\n",
    "        muz = zm1/trT\n",
    "\n",
    "        bm1 = file['tasks']['bm1i'][:,0,0];\n",
    "        bm2 = file['tasks']['bm2i'][:,0,0]\n",
    "        Ktr = file['tasks']['Ktr'][:,0,0]\n",
    "        mu = bm1/trT\n",
    "        sigma2 = bm2/trT-(bm1/trT)**2.\n",
    "        sigma2nomu = bm2/trT\n",
    "        ab1.plot(t,mu/1.e-4,colors[ii])\n",
    "        ab1.set_xlim(xlims)\n",
    "        ab1.set_ylim([10.,14.])\n",
    "        ab2.plot(t,np.sqrt(sigma2)/1.e-4,colors[ii])\n",
    "        ab2.set_xlim(xlims)\n",
    "        ab2.set_ylim([0.,5.])\n",
    "        ab3.plot((t[1:]+t[:-1])/2,0.5*(sigma2[1:]-sigma2[:-1])/(t[1:]-t[:-1])/lday/N2/N2/1.e-4,colors[ii])\n",
    "        ab3.plot(t,Ktr/trT/1e-4,colors[ii].replace('-','--'))\n",
    "        ab3.set_xlim(xlims)\n",
    "        ab3.set_ylim([0.,10.])\n",
    "\n",
    "xlims = ab0.get_xlim();ylims = ab0.get_ylim();\n",
    "ab0.text(xlims[0]+0.12*(xlims[1]-xlims[0]),ylims[0]+0.95*(ylims[1]-ylims[0]),panlabs[0],fontsize=15,fontweight='bold')\n",
    "xlims = ab1.get_xlim();ylims = ab1.get_ylim();\n",
    "ab1.text(xlims[0]+0.02*(xlims[1]-xlims[0]),ylims[0]+0.83*(ylims[1]-ylims[0]),panlabs[1],fontsize=15,fontweight='bold')\n",
    "xlims = ab2.get_xlim();ylims = ab2.get_ylim();\n",
    "ab2.text(xlims[0]+0.02*(xlims[1]-xlims[0]),ylims[0]+0.83*(ylims[1]-ylims[0]),panlabs[2],fontsize=15,fontweight='bold')\n",
    "xlims = ab3.get_xlim();ylims = ab3.get_ylim();\n",
    "ab3.text(xlims[0]+0.02*(xlims[1]-xlims[0]),ylims[0]+0.83*(ylims[1]-ylims[0]),panlabs[3],fontsize=15,fontweight='bold')\n",
    "\n",
    "plt.tight_layout()\n",
    "plt.savefig(savedir + 'bSpaceAnalysis_AH.pdf');\n"
   ]
  },
  {
   "cell_type": "markdown",
   "metadata": {
    "ein.tags": "worksheet-0",
    "slideshow": {
     "slide_type": "-"
    }
   },
   "source": [
    "### Z distribution and moments"
   ]
  },
  {
   "cell_type": "code",
   "execution_count": null,
   "metadata": {
    "autoscroll": false,
    "ein.tags": "worksheet-0",
    "slideshow": {
     "slide_type": "-"
    }
   },
   "outputs": [],
   "source": [
    "fig = plt.figure(figsize=(10, 5), facecolor='w')\n",
    "ab0 = plt.subplot2grid((3,2),(0,0), colspan=1, rowspan=3)\n",
    "ab1 = plt.subplot2grid((3,2),(0,1));\n",
    "ab2 = plt.subplot2grid((3,2),(1,1));\n",
    "ab3 = plt.subplot2grid((3,2),(2,1));\n",
    "ab0.set_ylabel('z (m)');ab0.set_xlabel('Tracer Concentration (tr / m)');\n",
    "ab0.set_title('Tracer Distribution');ab0.set_ylim([0.,Lz]);\n",
    "ab1.set_ylabel('z (m)');ab1.set_title('Centre of mass $\\mu_z$');\n",
    "ab1.grid()\n",
    "ab2.set_ylabel('z (m)');ab2.set_title('Standard deviation $\\sigma_z$');\n",
    "ab2.grid()\n",
    "ab3.set_ylabel(r'$\\kappa_{eff}^z\\,\\, (cm^2s^{-1})$');ab3.set_title('Effective diffusivity from second moment');\n",
    "ab3.set_xlabel('Days')\n",
    "ab3.grid()\n",
    "panlabs = ['a','b','c','d','e','f','g','h','i','j','k','l']\n",
    "\n",
    "# runs = [basedir + 'z0_' + x + '_AH_000_Kinf_m5_ADV_2_slope_400/' for x in ['1p0000','0p5000','0p1250']]\n",
    "# leglabel = ['$z_0=d=500$m','$z_0=d/2=250$m','$z_0=d/8=62.5$m']\n",
    "# runs = [basedir + 'z0_0p5000_AH_000_Kinf_m%s_ADV_2_slope_400/' % x for x in [3,4,5]] + [basedir + 'z0_0p5000_AH_000_Kinf_m5_ADV_%s_slope_400/' % x for x in [0,1]]\n",
    "# leglabel = [x.replace(basedir + 'z0_0p5000_AH_000_','').replace('_slope_400/','').replace('_',' ').replace('Kinf m','$\\kappa_\\infty = 10^{-').replace(' ADV 2','}m^2s^{-1}$ ').replace(' ADV 1','}m^2s^{-1}$ BBL V only').replace('ADV 0','}m^2s^{-1}$ no ADV') for x in runs]\n",
    "# runs = [basedir + 'z0_0p5000_AH_000_Kinf_m5_ADV_2_slope_%03d/' % x for x in [100,200,400]]\n",
    "# leglabel = ['1/100','1/200','1/400']\n",
    "runs = [basedir + 'z0_0p5000_AH_%03d_Kinf_m5_ADV_2_slope_400/' % x for x in [0,5,50]]\n",
    "leglabel = ['No Isopycnal Diffusion','$A_H=5$m$^2$s$^{-1}$','$A_H=50$m$^2$s$^{-1}$']\n",
    "colors = ['k-','r-','b-','g-','y-','m-'];\n",
    "\n",
    "pfr = 8\n",
    "tifin = 100\n",
    "\n",
    "for ii in range(0,len(runs)):\n",
    "\n",
    "    params = np.load(runs[ii] + 'runparams.npz');locals().update(params)\n",
    "\n",
    "    with h5py.File(runs[ii] + 'snapshots.h5', mode='r') as file:\n",
    "\n",
    "        z = file['scales/z/1.0'][:];\n",
    "        t = file['scales/sim_time'][:]/lday;\n",
    "        ym0 = file['tasks']['ym0']\n",
    "\n",
    "        xlims = [0.,t[tifin]]\n",
    "        for i in range(0,tifin,pfr):#len(t),pfr):\n",
    "            if i == 0:\n",
    "                ab0.plot(ym0[i,0,:],z,colors[ii],label=leglabel[ii])\n",
    "            else:\n",
    "                ab0.plot(ym0[i,0,:],z,colors[ii])\n",
    "#                ab3.plot(t[i],K0/1e-4,'.',markersize=12)\n",
    "\n",
    "#        ab0.legend(title='Horizontal Diffusivity $A_H$')\n",
    "#        ab0.legend(title='Initial Tracer Height $z_0$')\n",
    "        ab0.legend()\n",
    "        ab0.set_ylim([0., 1000.])\n",
    "        zm1 = file['tasks']['zm1i'][:,0,0];\n",
    "        zm2 = file['tasks']['zm2i'][:,0,0]\n",
    "        trT = file['tasks']['trT'][:,0,0]\n",
    "        Ktr = file['tasks']['Ktr'][:,0,0]\n",
    "        mu = zm1/trT\n",
    "        sigma2 = zm2/trT-(zm1/trT)**2.\n",
    "        ab1.plot(t,mu,colors[ii])\n",
    "        ab1.set_xlim(xlims)\n",
    "        ab1.set_ylim([0, 400.])\n",
    "        ab2.plot(t,np.sqrt(sigma2),colors[ii])\n",
    "        ab2.set_xlim(xlims)\n",
    "        ab2.set_ylim([0, 300.])\n",
    "\n",
    "        ab3.plot((t[1:]+t[:-1])/2,0.5*(sigma2[1:]-sigma2[:-1])/(t[1:]-t[:-1])/lday/1e-4,colors[ii])\n",
    "#        ab3.plot(t,(Kinf + (K0-Kinf)*np.exp(-mu/d))/1e-4,colors[ii].replace('-','--'))\n",
    "        ab3.plot(t,Ktr/trT/1e-4,colors[ii].replace('-','--'))\n",
    "        ab3.set_xlim(xlims)\n",
    "\n",
    "ab0.set_xlim([0, 30000])\n",
    "xlims = ab0.get_xlim();ylims = ab0.get_ylim();\n",
    "ab0.text(xlims[0]+0.05*(xlims[1]-xlims[0]),ylims[0]+0.95*(ylims[1]-ylims[0]),panlabs[0],fontsize=15,fontweight='bold')\n",
    "xlims = ab1.get_xlim();ylims = ab1.get_ylim();\n",
    "ab1.text(xlims[0]+0.02*(xlims[1]-xlims[0]),ylims[0]+0.83*(ylims[1]-ylims[0]),panlabs[1],fontsize=15,fontweight='bold')\n",
    "xlims = ab2.get_xlim();ylims = ab2.get_ylim();\n",
    "ab2.text(xlims[0]+0.02*(xlims[1]-xlims[0]),ylims[0]+0.83*(ylims[1]-ylims[0]),panlabs[2],fontsize=15,fontweight='bold')\n",
    "xlims = ab3.get_xlim();ylims = ab3.get_ylim();\n",
    "ab3.text(xlims[0]+0.02*(xlims[1]-xlims[0]),ylims[0]+0.1*(ylims[1]-ylims[0]),panlabs[3],fontsize=15,fontweight='bold')\n",
    "\n",
    "plt.tight_layout()\n",
    "# plt.savefig(savedir + 'zSpaceAnalysis_Slope.pdf');\n"
   ]
  },
  {
   "cell_type": "markdown",
   "metadata": {
    "ein.tags": "worksheet-0",
    "slideshow": {
     "slide_type": "-"
    }
   },
   "source": [
    "### Y Distribution and moments"
   ]
  },
  {
   "cell_type": "code",
   "execution_count": null,
   "metadata": {
    "autoscroll": false,
    "ein.tags": "worksheet-0",
    "slideshow": {
     "slide_type": "-"
    }
   },
   "outputs": [],
   "source": [
    "# Plot Y distribution and moments:\n",
    "fig = plt.figure(figsize=(10, 5), facecolor='w')\n",
    "ab0 = plt.subplot2grid((3,2),(0,0), colspan=1, rowspan=3)\n",
    "ab1 = plt.subplot2grid((3,2),(0,1));\n",
    "ab2 = plt.subplot2grid((3,2),(1,1));\n",
    "ab3 = plt.subplot2grid((3,2),(2,1));\n",
    "ab0.set_xlabel('y (km)');ab0.set_ylabel('Tracer Concentration (tr / m)');\n",
    "ab0.set_title('Tracer Distribution');ab0.set_xlim([0.,Ly/1.e3]);\n",
    "ab1.set_ylabel('y (km)');ab1.set_title('Centre of mass $\\mu_y$');\n",
    "ab1.grid()\n",
    "ab2.set_ylabel('y (km)');ab2.set_title('Standard deviation $\\sigma_y$');\n",
    "ab2.grid()\n",
    "ab3.set_ylabel(r'$\\kappa^y_{eff} (m^2s^{-1})$');ab3.set_title('Effective diffusivity from second moment');\n",
    "ab3.set_xlabel('Days')\n",
    "ab3.grid()\n",
    "panlabs = ['a','b','c','d','e','f','g','h','i','j','k','l']\n",
    "\n",
    "runs = [basedir + 'z0_' + x + '_AH_000_Kinf_m5_ADV_2_slope_400/' for x in ['1p0000','0p5000','0p1250']]\n",
    "leglabel = ['$z_0=d=500$m','$z_0=d/2=250$m','$z_0=d/8=62.5$m']\n",
    "# runs = [basedir + 'z0_0p5000_AH_000_Kinf_m%s_ADV_2_slope_400/' % x for x in [3,4,5]] + [basedir + 'z0_0p5000_AH_000_Kinf_m5_ADV_%s_slope_400/' % x for x in [0,1]]\n",
    "# leglabel = [x.replace(basedir + 'z0_0p5000_AH_000_','').replace('_slope_400/','').replace('_',' ').replace('Kinf m','$\\kappa_\\infty = 10^{-').replace(' ADV 2','}m^2s^{-1}$ ').replace(' ADV 1','}m^2s^{-1}$ BBL V only').replace('ADV 0','}m^2s^{-1}$ no ADV') for x in runs]\n",
    "# runs = [basedir + 'z0_0p5000_AH_000_Kinf_m5_ADV_2_slope_%03d/' % x for x in [100,200,400]]\n",
    "# leglabel = ['1/100','1/200','1/400']\n",
    "runs = [basedir + 'z0_0p5000_AH_%03d_Kinf_m5_ADV_2_slope_400/' % x for x in [0,5,50]]\n",
    "leglabel = ['No Isopycnal Diffusion','$A_H=5$m$^2$s$^{-1}$','$A_H=50$m$^2$s$^{-1}$']\n",
    "# runs = [basedir + 'z0_0p5000_AH_%03d_Kinf_m5_ADV_2_slope_400/' % x for x in [0,1,5,10,50,100]]\n",
    "# leglabel = ['%sm$^2$s$^{-1}$' % x for x in [0,1,5,10,50,100]]\n",
    "colors = ['k-','r-','b-','g-','y-','m-'];\n",
    "\n",
    "pfr = 8\n",
    "tifin = 100\n",
    "\n",
    "for ii in range(0,len(runs)):\n",
    "\n",
    "    params = np.load(runs[ii] + 'runparams.npz');locals().update(params)\n",
    "\n",
    "    with h5py.File(runs[ii] + 'snapshots.h5', mode='r') as file:\n",
    "\n",
    "        t = file['scales/sim_time'][:]/lday;\n",
    "        zm0 = file['tasks']['zm0']\n",
    "\n",
    "        xlims = [0.,t[tifin]]\n",
    "        for i in range(0,tifin,pfr):#len(t),pfr):\n",
    "            if i == 0:\n",
    "                ab0.plot(y/1.e3,zm0[i,:,0],colors[ii],label=leglabel[ii])\n",
    "            else:\n",
    "                ab0.plot(y/1.e3,zm0[i,:,0],colors[ii])\n",
    "#        ab0.legend(title='Horizontal Diffusivity $A_H$')\n",
    "#        ab0.legend(title='Initial Tracer Height $z_0$')\n",
    "        ab0.legend()\n",
    "    \n",
    "        ym1 = file['tasks']['ym1i'][:,0,0];\n",
    "        ym2 = file['tasks']['ym2i'][:,0,0]\n",
    "        trT = file['tasks']['trT'][:,0,0]\n",
    "        mu = ym1/trT\n",
    "        sigma2 = ym2/trT-(ym1/trT)**2.\n",
    "        ab1.plot(t,mu/1.e3,colors[ii])\n",
    "        ab1.set_xlim(xlims)\n",
    "        ab2.plot(t,np.sqrt(sigma2)/1.e3,colors[ii])\n",
    "        ab2.set_xlim(xlims)\n",
    "\n",
    "        ab3.plot((t[1:]+t[:-1])/2,0.5*(sigma2[1:]-sigma2[:-1])/(t[1:]-t[:-1])/lday,colors[ii])\n",
    "        # print(np.max(0.5*(sigma2[1:]-sigma2[:-1])/(t[1:]-t[:-1])/lday))\n",
    "        ab3.set_xlim(xlims)\n",
    "\n",
    "ab0.set_xlim([0.,1000.])\n",
    "ab0.set_ylim([0.,5.])\n",
    "xlims = ab0.get_xlim();ylims = ab0.get_ylim();\n",
    "ab0.text(xlims[0]+0.02*(xlims[1]-xlims[0]),ylims[0]+0.95*(ylims[1]-ylims[0]),panlabs[0],fontsize=15,fontweight='bold')\n",
    "xlims = ab1.get_xlim();ylims = ab1.get_ylim();\n",
    "ab1.text(xlims[0]+0.02*(xlims[1]-xlims[0]),ylims[0]+0.83*(ylims[1]-ylims[0]),panlabs[1],fontsize=15,fontweight='bold')\n",
    "xlims = ab2.get_xlim();ylims = ab2.get_ylim();\n",
    "ab2.text(xlims[0]+0.02*(xlims[1]-xlims[0]),ylims[0]+0.83*(ylims[1]-ylims[0]),panlabs[2],fontsize=15,fontweight='bold')\n",
    "xlims = ab3.get_xlim();ylims = ab3.get_ylim();\n",
    "ab3.text(xlims[0]+0.02*(xlims[1]-xlims[0]),ylims[0]+0.83*(ylims[1]-ylims[0]),panlabs[3],fontsize=15,fontweight='bold')\n",
    "plt.tight_layout()\n",
    "#plt.savefig(savedir + 'ySpaceAnalysis_Slope.pdf');\n"
   ]
  },
  {
   "cell_type": "markdown",
   "metadata": {
    "ein.tags": "worksheet-0",
    "slideshow": {
     "slide_type": "-"
    }
   },
   "source": [
    "### Analytic plot of B derivatives to check BBL approximations for isopycnal mixing"
   ]
  },
  {
   "cell_type": "code",
   "execution_count": null,
   "metadata": {
    "autoscroll": false,
    "ein.tags": "worksheet-0",
    "slideshow": {
     "slide_type": "-"
    }
   },
   "outputs": [],
   "source": [
    "theta = np.arctan(1./100.);N2 = 1.e-6;K0 = 1.e-3;Pr0=1.\n",
    "q0 = (N2*np.sin(theta)*np.sin(theta)/4.0/Pr0/K0/K0)**(1.0/4.0)\n",
    "\n",
    "z = np.linspace(0.,2./q0,200.)\n",
    "f  = np.exp(-q0*z)*(np.cos(q0*z)+np.sin(q0*z))\n",
    "fz = -2.*q0*np.exp(-q0*z)*np.sin(q0*z)\n",
    "V = -K0*fz/np.tan(theta);\n",
    "V = V/np.max(V)\n",
    "\n",
    "Bz = 1-f\n",
    "Bz2d = (1-f)**2./(np.tan(theta)**2.+(1-f)**2.)\n",
    "ByBzd = (1-f)/(np.tan(theta)+(1./np.tan(theta))*(1-f)**2.)\n",
    "By2d = 1/(1+(1./np.tan(theta))**2.*(1-f)**2.)\n",
    "ByBzdd = fz*((1./np.tan(theta))*(1-f)**2.-np.tan(theta))/(np.tan(theta)+(1./np.tan(theta))*(1-f)**2.)**2.\n",
    "By2dd = 2*(1-f)*fz/(1+(1./np.tan(theta))**2.*(1-f)**2.)**2.\n",
    "\n",
    "fig = plt.figure(figsize=(5,7))\n",
    "fig.set_facecolor('white')\n",
    "plt.plot(Bz,z,'-k',linewidth=3,label=r'$B_z/N^2\\cos{\\theta}$')\n",
    "plt.plot(V,z,'--k',linewidth=3,label=r'$V/max(V)$')\n",
    "plt.plot(Bz2d,z,'-r',linewidth=2,label=r'$B_z^2/|\\nabla B|^2$')\n",
    "plt.plot(ByBzd,z,'-b',linewidth=2,label=r'$B_z B_y/|\\nabla B|^2$')\n",
    "plt.plot(By2d,z,'-m',linewidth=2,label=r'$B_y^2/|\\nabla B|^2$')\n",
    "plt.plot(ByBzdd,z,'-c',linewidth=2,label=r'$\\frac{\\partial}{\\partial z}(B_z B_y/|\\nabla B|^2)$')\n",
    "plt.plot(By2dd,z,'-g',linewidth=2,label=r'$\\frac{\\partial}{\\partial z}(B_y^2/|\\nabla B|^2)$')\n",
    "plt.plot([0.,1.],[1./q0,1./q0],'-k')\n",
    "plt.legend()\n",
    "ax = plt.gca()\n",
    "ax.set_ylabel('Height $z$ (m)')\n",
    "ax.set_ylim([0.,np.max(z)])\n",
    "plt.text(0.03,1./q0+3,r'$\\tan{\\theta} = 1/%3.0f$' % (1./np.tan(theta)),fontsize='x-large')\n",
    "plt.text(0.03,1./q0+1,r'$q_0^{-1} = %2.1f$m' % (1./q0),fontsize='x-large')\n",
    "plt.savefig('IsopycnalMixing_Bgradients_Sl100.png')\n"
   ]
  }
 ],
 "metadata": {
  "kernelspec": {
   "display_name": "Python 3",
   "name": "python3"
  },
  "language_info": {
   "codemirror_mode": {
    "name": "ipython",
    "version": 3
   },
   "file_extension": ".py",
   "mimetype": "text/x-python",
   "name": "python",
   "nbconvert_exporter": "python",
   "pygments_lexer": "ipython3",
   "version": "3.6.3"
  },
  "name": "Slope_Tracer_Analysis.ipynb"
 },
 "nbformat": 4,
 "nbformat_minor": 1
}
