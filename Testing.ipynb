{
 "cells": [
  {
   "cell_type": "code",
   "execution_count": null,
   "metadata": {
    "autoscroll": false,
    "ein.hycell": false,
    "ein.tags": "worksheet-0",
    "slideshow": {
     "slide_type": "-"
    }
   },
   "outputs": [],
   "source": [
    "import numpy as np\n",
    "import matplotlib.pyplot as plt\n",
    "import Slope_Tracer\n",
    "import os\n",
    "import shutil\n",
    "import h5py"
   ]
  },
  {
   "cell_type": "code",
   "execution_count": null,
   "metadata": {
    "autoscroll": false,
    "ein.tags": "worksheet-0",
    "slideshow": {
     "slide_type": "-"
    }
   },
   "outputs": [],
   "source": [
    "import imp\n",
    "imp.reload(Slope_Tracer)"
   ]
  },
  {
   "cell_type": "code",
   "execution_count": null,
   "metadata": {
    "autoscroll": false,
    "ein.hycell": false,
    "ein.tags": "worksheet-0",
    "slideshow": {
     "slide_type": "-"
    }
   },
   "outputs": [],
   "source": [
    "rundir = '/home/z3500785/dedalus_rundir/'\n",
    "shutil.rmtree(rundir+'ifields/');shutil.rmtree(rundir+'snapshots/');shutil.rmtree(rundir+'moments/');os.remove(rundir+'runparams.npz')\n",
    "input_dict = dict(Slope_Tracer.default_input_dict)\n",
    "lday = 1.0e5\n",
    "\n",
    "input_dict['dt'] = 2.*lday\n",
    "#input_dict['Ttot'] = 320\n",
    "input_dict['nz'] = 96\n",
    "input_dict['AH'] = 100.\n",
    "input_dict['AHvar'] = 0. # ONLY use 0 here if trying true along-isopycnal\n",
    "input_dict['AHfull'] = 1\n",
    "\n",
    "Slope_Tracer.run_sim(rundir,plot=True,**input_dict)"
   ]
  },
  {
   "cell_type": "code",
   "execution_count": null,
   "metadata": {
    "autoscroll": false,
    "ein.tags": "worksheet-0",
    "slideshow": {
     "slide_type": "-"
    }
   },
   "outputs": [],
   "source": [
    "Slope_Tracer.merge_move(rundir,'')"
   ]
  },
  {
   "cell_type": "code",
   "execution_count": null,
   "metadata": {
    "autoscroll": false,
    "ein.tags": "worksheet-0",
    "slideshow": {
     "slide_type": "-"
    }
   },
   "outputs": [],
   "source": [
    "# Plot ifields:\n",
    "f, ax = plt.subplots(figsize=(10,5))\n",
    "f.set_facecolor('white')\n",
    "ax.set_xlabel('z');ax.set_ylabel('value')\n",
    "with h5py.File(rundir + 'ifields/ifields.h5', mode='r') as file:\n",
    "        y = file['scales/y/1.0'][:];z = file['scales/z/1.0'][:];\n",
    "        ym, zm = np.meshgrid(y,z)\n",
    "        zt = np.cos(theta)*zm + np.sin(theta)*ym\n",
    "        yt = -np.sin(theta)*zm + np.cos(theta)*ym\n",
    "        plt.plot(z,file['tasks']['KHyy'][0,0,:],label='KHyy')\n",
    "        plt.plot(z,file['tasks']['KHyz'][0,0,:],label='KHyz')\n",
    "        plt.plot(z,file['tasks']['KHzz'][0,0,:],label='KHzz')\n",
    "#        plt.plot(z,file['tasks']['AHdd'][0,0,:],label='AHdd')\n",
    "plt.xlim([0.,10.])\n",
    "plt.legend()"
   ]
  },
  {
   "cell_type": "code",
   "execution_count": null,
   "metadata": {
    "autoscroll": false,
    "ein.tags": "worksheet-0",
    "slideshow": {
     "slide_type": "-"
    }
   },
   "outputs": [],
   "source": [
    "fig = plt.figure(figsize=(6, 5), facecolor='w')\n",
    "with h5py.File(rundir + 'moments/moments.h5', mode='r') as file:\n",
    "    t = file['scales/sim_time'][:]/lday;\n",
    "    trT = file['tasks']['trT'][:,0,0]\n",
    "    zm1i = file['tasks']['zm1i'][:,0,0]\n",
    "    ym1i = file['tasks']['ym1i'][:,0,0]\n",
    "    #plt.plot(t,trT/trT[0])\n",
    "    plt.plot(t,zm1i/trT,'+k')\n"
   ]
  },
  {
   "cell_type": "code",
   "execution_count": null,
   "metadata": {
    "autoscroll": false,
    "ein.hycell": false,
    "ein.tags": "worksheet-0",
    "slideshow": {
     "slide_type": "-"
    }
   },
   "outputs": [],
   "source": [
    "outbase = '/srv/ccrc/data03/z3500785/dedalus_Slope_Tracer/saveRUNS/';\n",
    "outfold = outbase + 'prodruns_layer30-08-18/'\n",
    "outdir = outfold + 'AH_010_ADV_2_Kinf_m5_mny0_0p5333_slope_200/';\n",
    "rundir = '/home/z3500785/dedalus_rundir/';\n",
    "# print(outdir)\n",
    "# Slope_Tracer.merge_move(rundir,outdir)\n",
    "os.makedirs(outdir, exist_ok=True)\n",
    "shutil.move(rundir + 'snapshots/snapshots.h5',outdir + 'snapshots.h5');\n",
    "shutil.move(rundir + 'moments/moments.h5',outdir + 'moments.h5');\n",
    "shutil.move(rundir + 'ifields/ifields.h5',outdir + 'ifields.h5');\n",
    "shutil.move(rundir + 'runparams.npz',outdir + 'runparams.npz');\n",
    "shutil.rmtree(rundir + 'snapshots/');\n",
    "shutil.rmtree(rundir + 'ifields/');\n",
    "shutil.rmtree(rundir + 'moments/');\n"
   ]
  },
  {
   "cell_type": "code",
   "execution_count": null,
   "metadata": {
    "autoscroll": false,
    "ein.tags": "worksheet-0",
    "slideshow": {
     "slide_type": "-"
    }
   },
   "outputs": [],
   "source": [
    "slope = 1/100.0\n",
    "theta = np.arctan(slope)\n",
    "q0 = 1./30.\n",
    "costh = np.cos(theta)\n",
    "sinth = np.sin(theta)\n",
    "\n",
    "# All coefficients of the equations:\n",
    "z = np.linspace(0,200.,2000)\n",
    "\n",
    "f = np.exp(-q0*z)*(np.cos(q0*z)+np.sin(q0*z));\n",
    "fz = -2*q0*np.exp(-q0*z)*np.sin(q0*z);\n",
    "GB2 = 1.+costh**2.*f*(f-2.)\n",
    "\n",
    "dyC = fz*costh*sinth*(1+costh**2.*(-2.*f*f+3.*f-2))/(GB2**2.)\n",
    "dzC = -fz*sinth*sinth*costh*costh*(3.*f-2.)/(GB2**2.)\n",
    "dydyC = costh*costh*(1-f)**2./GB2\n",
    "dydzC = -2*costh*sinth*(1-f)/GB2\n",
    "dzdzC = sinth*sinth/GB2\n",
    "\n",
    "plt.plot(z,(1.-f),label='1-f')\n",
    "plt.plot(z,dyC/np.max(abs(dyC)),label='$\\partial_y C$ coef.')\n",
    "plt.plot(z,dzC/np.max(abs(dzC)),label='$\\partial_z C$ coef.')\n",
    "plt.plot(z,dydyC/np.max(abs(dydyC)),label='$\\partial_y^2 C$ coef.')\n",
    "plt.plot(z,dydzC/np.max(abs(dydzC)),label='$\\partial_y\\partial_z C$ coef.')\n",
    "plt.plot(z,dzdzC/np.max(abs(dzdzC)),label='$\\partial_z^2 C$ coef.')\n",
    "plt.xlim([0.,60.])\n",
    "plt.legend()"
   ]
  },
  {
   "cell_type": "code",
   "execution_count": null,
   "metadata": {
    "autoscroll": false,
    "ein.hycell": false,
    "ein.tags": "worksheet-0",
    "slideshow": {
     "slide_type": "-"
    }
   },
   "outputs": [],
   "source": [
    "z = np.linspace(0,200.,100)\n",
    "q0 = 1./30.\n",
    "\n",
    "f = np.exp(-q0*z)*(np.cos(q0*z)+np.sin(q0*z));\n",
    "fz = -2*q0*np.exp(-q0*z)*np.sin(q0*z);\n",
    "plt.plot(z,f)\n",
    "plt.plot(z,fz)\n",
    "plt.ylim([-0.1,0.1])\n",
    "#Bz = 1. - np.exp(-q0*z)*(np.cos(q0*z)+np.sin(q0*z))\n",
    "#AH = 1. - np.exp(-q0*z)\n",
    "#tst2 = AH*f\n",
    "#tst3 = np.exp(-q0*z)*(q0*f-2*q0*np.exp(-q0*z)*np.sin(q0*z) - q0)/q0\n",
    "# plt.plot(Bz,z)\n",
    "# plt.plot(AH,z,'-b')\n",
    "# plt.plot(tst,z,'-r')\n",
    "# plt.plot(tst2,z,'-m')\n",
    "# plt.plot(tst3,z,'-g')"
   ]
  },
  {
   "cell_type": "code",
   "execution_count": null,
   "metadata": {
    "autoscroll": false,
    "ein.hycell": false,
    "ein.tags": "worksheet-0",
    "slideshow": {
     "slide_type": "-"
    }
   },
   "outputs": [],
   "source": [
    "import numpy as np\n",
    "import h5py\n",
    "import matplotlib\n",
    "import shutil\n",
    "import time\n",
    "import matplotlib.pyplot as plt\n",
    "from mpi4py import MPI\n",
    "from scipy.special import erf\n",
    "import os\n",
    "from IPython import display\n",
    "from dedalus import public as de\n",
    "from dedalus.extras import flow_tools\n",
    "from dedalus.tools import post\n",
    "import pathlib\n",
    "from dedalus.extras import plot_tools\n",
    "import obsfit1d\n",
    "import logging\n",
    "logger = logging.getLogger(__name__)\n"
   ]
  },
  {
   "cell_type": "code",
   "execution_count": null,
   "metadata": {
    "autoscroll": false,
    "ein.tags": "worksheet-0",
    "slideshow": {
     "slide_type": "-"
    }
   },
   "outputs": [],
   "source": [
    "# Create bases and domain\n",
    "z_basis = de.Chebyshev('z', 32, interval=(0, 1.))#, dealias=3/2)\n",
    "domain = de.Domain([z_basis], grid_dtype=np.float64)\n",
    "z1 = domain.grid(0)\n",
    "z2 = domain.grid(0,scales=2.)\n",
    "K = domain.new_field()\n",
    "K['g'] = np.exp(-z1/0.2)\n"
   ]
  },
  {
   "cell_type": "code",
   "execution_count": null,
   "metadata": {
    "autoscroll": false,
    "ein.tags": "worksheet-0",
    "slideshow": {
     "slide_type": "-"
    }
   },
   "outputs": [],
   "source": [
    "f = plt.figure(figsize=(10,10),facecolor='w')\n",
    "K.set_scales(1.)\n",
    "plt.plot(K['g'],z1,'ok')\n",
    "plt.plot(K['g']*0,z1,'ok')\n",
    "K.set_scales(2.)\n",
    "plt.plot(K['g'],z2,'om')\n",
    "plt.plot(K['g']*0,z2,'om')\n",
    "\n"
   ]
  },
  {
   "cell_type": "code",
   "execution_count": null,
   "metadata": {
    "autoscroll": false,
    "ein.tags": "worksheet-0",
    "slideshow": {
     "slide_type": "-"
    }
   },
   "outputs": [],
   "source": []
  }
 ],
 "metadata": {
  "kernelspec": {
   "display_name": "Python 3",
   "language": "python",
   "name": "python3"
  },
  "language_info": {
   "codemirror_mode": {
    "name": "ipython",
    "version": 3
   },
   "file_extension": ".py",
   "mimetype": "text/x-python",
   "name": "python",
   "nbconvert_exporter": "python",
   "pygments_lexer": "ipython3",
   "version": "3.6.3"
  },
  "name": "Testing.ipynb"
 },
 "nbformat": 4,
 "nbformat_minor": 2
}
