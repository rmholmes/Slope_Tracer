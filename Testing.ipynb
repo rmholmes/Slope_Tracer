{
 "cells": [
  {
   "cell_type": "code",
   "execution_count": null,
   "metadata": {
    "autoscroll": false,
    "ein.hycell": false,
    "ein.tags": "worksheet-0",
    "slideshow": {
     "slide_type": "-"
    }
   },
   "outputs": [],
   "source": [
    "import numpy as np\n",
    "import matplotlib.pyplot as plt\n",
    "import Slope_Tracer\n",
    "import os\n",
    "import shutil"
   ]
  },
  {
   "cell_type": "code",
   "execution_count": null,
   "metadata": {
    "autoscroll": false,
    "ein.hycell": false,
    "ein.tags": "worksheet-0",
    "slideshow": {
     "slide_type": "-"
    }
   },
   "outputs": [],
   "source": [
    "import imp\n",
    "imp.reload(Slope_Tracer)"
   ]
  },
  {
   "cell_type": "code",
   "execution_count": null,
   "metadata": {
    "autoscroll": false,
    "ein.hycell": false,
    "ein.tags": "worksheet-0",
    "slideshow": {
     "slide_type": "-"
    }
   },
   "outputs": [],
   "source": [
    "input_dict = dict(Slope_Tracer.default_input_dict)\n",
    "input_dict['Ttot'] = 8\n",
    "input_dict['slope'] = 1./200.\n",
    "input_dict['trItype'] = 2\n",
    "input_dict['z0'] = 10.\n",
    "input_dict['mny0'] = 0.4666666666666666666666\n",
    "Slope_Tracer.run_sim('/home/z3500785/dedalus_rundir/',plot=True,**input_dict)"
   ]
  },
  {
   "cell_type": "code",
   "execution_count": null,
   "metadata": {
    "autoscroll": false,
    "ein.hycell": false,
    "ein.tags": "worksheet-0",
    "slideshow": {
     "slide_type": "-"
    }
   },
   "outputs": [],
   "source": [
    "outbase = '/srv/ccrc/data03/z3500785/dedalus_Slope_Tracer/saveRUNS/';\n",
    "outfold = outbase + 'prodruns_layer30-08-18/'\n",
    "outdir = outfold + 'AH_010_ADV_2_Kinf_m5_mny0_0p5333_slope_200/';\n",
    "rundir = '/home/z3500785/dedalus_rundir/';\n",
    "# print(outdir)\n",
    "# Slope_Tracer.merge_move(rundir,outdir)\n",
    "os.makedirs(outdir, exist_ok=True)\n",
    "shutil.move(rundir + 'snapshots/snapshots.h5',outdir + 'snapshots.h5');\n",
    "shutil.move(rundir + 'moments/moments.h5',outdir + 'moments.h5');\n",
    "shutil.move(rundir + 'ifields/ifields.h5',outdir + 'ifields.h5');\n",
    "shutil.move(rundir + 'runparams.npz',outdir + 'runparams.npz');\n",
    "shutil.rmtree(rundir + 'snapshots/');\n",
    "shutil.rmtree(rundir + 'ifields/');\n",
    "shutil.rmtree(rundir + 'moments/');\n"
   ]
  },
  {
   "cell_type": "code",
   "execution_count": null,
   "metadata": {
    "autoscroll": false,
    "ein.hycell": false,
    "ein.tags": "worksheet-0",
    "slideshow": {
     "slide_type": "-"
    }
   },
   "outputs": [],
   "source": [
    "for ii in range(len(AHs)):\n",
    "\n",
    "    outdir = ('z0_0p5000_AH_%03d_ADV_%01d_Kinf_%01d/' % (AHs[ii],ADVs[ii],np.log10(Kinfs[ii]))).replace('-','m')\n",
    "    print(outdir)"
   ]
  },
  {
   "cell_type": "code",
   "execution_count": null,
   "metadata": {
    "autoscroll": false,
    "ein.hycell": false,
    "ein.tags": "worksheet-0",
    "slideshow": {
     "slide_type": "-"
    }
   },
   "outputs": [],
   "source": [
    "z = np.linspace(0,200.,100)\n",
    "q0 = 1./30.\n",
    "\n",
    "f = np.exp(-q0*z)*(np.cos(q0*z)+np.sin(q0*z));\n",
    "#Bz = 1. - np.exp(-q0*z)*(np.cos(q0*z)+np.sin(q0*z))\n",
    "AH = 1. - np.exp(-q0*z)\n",
    "tst2 = AH*f\n",
    "tst3 = np.exp(-q0*z)*(q0*f-2*q0*np.exp(-q0*z)*np.sin(q0*z) - q0)/q0\n",
    "plt.plot(Bz,z)\n",
    "plt.plot(AH,z,'-b')\n",
    "plt.plot(tst,z,'-r')\n",
    "plt.plot(tst2,z,'-m')\n",
    "plt.plot(tst3,z,'-g')"
   ]
  },
  {
   "cell_type": "code",
   "execution_count": null,
   "metadata": {
    "autoscroll": false,
    "ein.hycell": false,
    "ein.tags": "worksheet-0",
    "slideshow": {
     "slide_type": "-"
    }
   },
   "outputs": [],
   "source": []
  }
 ],
 "metadata": {
  "kernelspec": {
   "display_name": "Python 3",
   "name": "python3"
  },
  "name": "Testing.ipynb"
 },
 "nbformat": 4,
 "nbformat_minor": 2
}
