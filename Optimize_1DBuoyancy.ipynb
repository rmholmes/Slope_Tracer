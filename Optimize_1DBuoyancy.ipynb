{
 "cells": [
  {
   "cell_type": "markdown",
   "metadata": {
    "ein.tags": "worksheet-0",
    "slideshow": {
     "slide_type": "-"
    }
   },
   "source": [
    "# Estimate diffusivity parameters from 1D b-space optimization\n",
    "## Ryan Holmes"
   ]
  },
  {
   "cell_type": "code",
   "execution_count": null,
   "metadata": {
    "autoscroll": false,
    "ein.hycell": false,
    "ein.tags": "worksheet-0",
    "slideshow": {
     "slide_type": "-"
    }
   },
   "outputs": [],
   "source": [
    "# Load modules\n",
    "import numpy as np\n",
    "import h5py\n",
    "import matplotlib\n",
    "import shutil\n",
    "import os\n",
    "from matplotlib import rc\n",
    "#rc('font',**{'family':'sans-serif','sans-serif':['Helvetica']})\n",
    "rc('text', usetex=True)\n",
    "matplotlib.rcParams[\"figure.facecolor\"] = \"white\"\n",
    "matplotlib.rcParams[\"axes.facecolor\"] = \"white\"\n",
    "matplotlib.rcParams[\"savefig.facecolor\"] = \"white\"\n",
    "import matplotlib.pyplot as plt\n",
    "import matplotlib.colors as mcolors\n",
    "%matplotlib inline\n",
    "import time\n",
    "from IPython import display\n",
    "import obsfit1d\n",
    "from scipy.interpolate import interp1d"
   ]
  },
  {
   "cell_type": "code",
   "execution_count": null,
   "metadata": {
    "autoscroll": false,
    "ein.tags": "worksheet-0",
    "slideshow": {
     "slide_type": "-"
    }
   },
   "outputs": [],
   "source": [
    "# Do a single run for checks:\n",
    "basedir = '/srv/ccrc/data03/z3500785/dedalus_Slope_Tracer/saveRUNS/prodruns24-5-19/';\n",
    "run = basedir + 'z0_0p5000_AH_000_Kinf_m5_ADV_2_slope_400/'\n",
    "\n",
    "# Get observed data:\n",
    "params = np.load(run + 'runparams.npz');locals().update(params)\n",
    "b = np.linspace(0,N2*np.cos(theta)*Lz + N2*np.sin(theta)*Ly,64);db = b[1]-b[0]\n",
    "ba = (b[:-1]+b[1:])/2\n",
    "\n",
    "with h5py.File(run + 'ifields.h5', mode='r') as file:\n",
    "    B = file['tasks']['B'][0,:,:]\n",
    "    B = (B[1:,:] + B[:-1,:])/2\n",
    "    B = (B[:,1:] + B[:,:-1])/2\n",
    "    y = file['scales/y/1.0'][:];z = file['scales/z/1.0'][:];\n",
    "dy = y[1:]-y[:-1];dz = z[1:]-z[:-1];\n",
    "dA = np.tile(dy,[len(z)-1,1]).T*np.tile(dz,[len(y)-1,1]);\n",
    "\n",
    "with h5py.File(run + 'snapshots.h5', mode='r') as file:\n",
    "\n",
    "    t = file['scales/sim_time'][:]/lday;\n",
    "    trT = file['tasks']['trT'][:,0,0]\n",
    "    trF = np.zeros((len(b)-1,len(t)))\n",
    "    for i in range(0,len(t)):#len(t),pfr):\n",
    "        tr = file['tasks']['tr'][i,:,:]\n",
    "        tr = (tr[1:,:] + tr[:-1,:])/2\n",
    "        tr = (tr[:,1:] + tr[:,:-1])/2\n",
    "        tr = tr*dA\n",
    "        trF[:,i] = np.array([np.sum(tr[np.logical_and(B>=bi,B<(bi+db))])/db for bi in b[:-1]])\n",
    "\n",
    "zF = ba/N2;\n",
    "dzF = zF[1]-zF[0]\n",
    "imax = np.argmax(trF[:,0])\n",
    "zF = zF - zF[imax]\n",
    "\n",
    "# Do 3-parameter fit:\n",
    "#tinds = range(0,len(t))\n",
    "tinds = range(0,20)\n",
    "K = [];Kh = [];w = [];func = [];suc = [];\n",
    "Kerr = []; Kherr = []; werr = [];msg = [];\n",
    "for ti in tinds:\n",
    "    if ((ti % 10) == 0):\n",
    "        print('Doing time %03d of %03d, run %s' % (ti, len(t), run))\n",
    "    res = obsfit1d.fit3par(zF,trF[:,ti],int(t[ti]*1e5),sz)\n",
    "    obsfit1d.plot(res.x,zF,trF[:,ti],int(t[ti]*1e5),sz)\n",
    "    K.append(res.x[0])\n",
    "    Kh.append(res.x[1])\n",
    "    w.append(res.x[2])\n",
    "    Kerr.append(res.xerr[0])\n",
    "    Kherr.append(res.xerr[1])\n",
    "    werr.append(res.xerr[2])\n",
    "    suc.append(res.success)\n",
    "    func.append(res.fun)\n",
    "    msg.append(res.msg)\n",
    "\n",
    "K = np.array(K)\n",
    "Kerr = np.array(Kerr)\n",
    "\n",
    "f = plt.figure(figsize=(10,10),facecolor='white')\n",
    "plt.subplot(2,1,1)\n",
    "plt.plot(tinds,Kerr/K,'xk')\n",
    "#cor = [x <= 0.00001 for x in func]\n",
    "#incor = [x > 0.00001 for x in func]\n",
    "plt.subplot(2,1,2)\n",
    "tinds = np.array(tinds);\n",
    "plt.plot(t[tinds],K,'xk');\n",
    "plt.plot(t[tinds],K+2*Kerr,'xr')\n",
    "plt.plot(t[tinds],K-2*Kerr,'xb')\n"
   ]
  },
  {
   "cell_type": "code",
   "execution_count": null,
   "metadata": {
    "autoscroll": false,
    "ein.tags": "worksheet-0",
    "slideshow": {
     "slide_type": "-"
    }
   },
   "outputs": [],
   "source": [
    "suc"
   ]
  },
  {
   "cell_type": "code",
   "execution_count": null,
   "metadata": {
    "autoscroll": false,
    "ein.tags": "worksheet-0",
    "slideshow": {
     "slide_type": "-"
    }
   },
   "outputs": [],
   "source": [
    "msg"
   ]
  },
  {
   "cell_type": "code",
   "execution_count": null,
   "metadata": {
    "autoscroll": false,
    "ein.hycell": false,
    "ein.tags": "worksheet-0",
    "slideshow": {
     "slide_type": "-"
    }
   },
   "outputs": [],
   "source": [
    "# Process multiple runs:\n",
    "basedir = '/srv/ccrc/data03/z3500785/dedalus_Slope_Tracer/saveRUNS/prodruns24-5-19/';\n",
    "folds = [basedir + x + '/' for x in os.listdir(basedir)];\n",
    "for run in folds:\n",
    "\n",
    "    # Get observed data:\n",
    "    params = np.load(run + 'runparams.npz');locals().update(params)\n",
    "    b = np.linspace(0,N2*np.cos(theta)*Lz + N2*np.sin(theta)*Ly,64);db = b[1]-b[0]\n",
    "    ba = (b[:-1]+b[1:])/2\n",
    "\n",
    "    with h5py.File(run + 'ifields.h5', mode='r') as file:\n",
    "        B = file['tasks']['B'][0,:,:]\n",
    "        B = (B[1:,:] + B[:-1,:])/2\n",
    "        B = (B[:,1:] + B[:,:-1])/2\n",
    "        y = file['scales/y/1.0'][:];z = file['scales/z/1.0'][:];\n",
    "    dy = y[1:]-y[:-1];dz = z[1:]-z[:-1];\n",
    "    dA = np.tile(dy,[len(z)-1,1]).T*np.tile(dz,[len(y)-1,1]);\n",
    "\n",
    "    with h5py.File(run + 'snapshots.h5', mode='r') as file:\n",
    "\n",
    "        t = file['scales/sim_time'][:]/lday;\n",
    "        trT = file['tasks']['trT'][:,0,0]\n",
    "        trF = np.zeros((len(b)-1,len(t)))\n",
    "        for i in range(0,len(t)):#len(t),pfr):\n",
    "            tr = file['tasks']['tr'][i,:,:]\n",
    "            tr = (tr[1:,:] + tr[:-1,:])/2\n",
    "            tr = (tr[:,1:] + tr[:,:-1])/2\n",
    "            tr = tr*dA\n",
    "            trF[:,i] = np.array([np.sum(tr[np.logical_and(B>=bi,B<(bi+db))])/db for bi in b[:-1]])\n",
    "\n",
    "    zF = ba/N2;\n",
    "    dzF = zF[1]-zF[0]\n",
    "    imax = np.argmax(trF[:,0])\n",
    "    zF = zF - zF[imax]\n",
    "\n",
    "    # Do 3-parameter fit:\n",
    "    tinds = range(0,len(t))\n",
    "    K = [];Kh = [];w = [];func = [];suc = [];\n",
    "    Kerr = []; Kherr = []; werr = [];\n",
    "    for ti in tinds:\n",
    "        if ((ti % 10) == 0):\n",
    "            print('Doing time %03d of %03d, run %s' % (ti, len(t), run))\n",
    "        res = obsfit1d.fit3par(zF,trF[:,ti],int(t[ti]*1e5),sz)\n",
    "        # obsfit1d.plot(res.x,zF,trF[:,ti],int(t[ti]*1e5),sz)\n",
    "        K.append(res.x[0])\n",
    "        Kh.append(res.x[1])\n",
    "        w.append(res.x[2])\n",
    "        Kerr.append(res.xerr[0])\n",
    "        Kherr.append(res.xerr[1])\n",
    "        werr.append(res.xerr[2])\n",
    "        suc.append(res.success)\n",
    "        func.append(res.fun)\n",
    "\n",
    "    # Save to file:\n",
    "    np.savez(run + 'par3fit',K=K,Kh=Kh,w=w,func=func,suc=suc,Kerr=Kerr,Kherr=Kherr,werr=werr,t = t[tinds])"
   ]
  }
 ],
 "metadata": {
  "kernelspec": {
   "display_name": "Python 3",
   "name": "python3"
  },
  "language_info": {
   "codemirror_mode": {
    "name": "ipython",
    "version": 3
   },
   "file_extension": ".py",
   "mimetype": "text/x-python",
   "name": "python",
   "nbconvert_exporter": "python",
   "pygments_lexer": "ipython3",
   "version": "3.5.2"
  },
  "name": "Optimize_1DBuoyancy.ipynb"
 },
 "nbformat": 4,
 "nbformat_minor": 1
}
