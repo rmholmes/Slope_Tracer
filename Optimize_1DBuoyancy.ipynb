{
 "cells": [
  {
   "cell_type": "markdown",
   "metadata": {
    "ein.tags": "worksheet-0",
    "slideshow": {
     "slide_type": "-"
    }
   },
   "source": [
    "# Estimate diffusivity parameters from 1D b-space optimization\n",
    "## Ryan Holmes"
   ]
  },
  {
   "cell_type": "code",
   "execution_count": null,
   "metadata": {
    "autoscroll": false,
    "ein.tags": "worksheet-0",
    "slideshow": {
     "slide_type": "-"
    }
   },
   "outputs": [],
   "source": [
    "# Load modules\n",
    "import numpy as np\n",
    "import h5py\n",
    "import matplotlib\n",
    "import shutil\n",
    "import os\n",
    "from matplotlib import rc\n",
    "#rc('font',**{'family':'sans-serif','sans-serif':['Helvetica']})\n",
    "rc('text', usetex=True)\n",
    "matplotlib.rcParams[\"figure.facecolor\"] = \"white\"\n",
    "matplotlib.rcParams[\"axes.facecolor\"] = \"white\"\n",
    "matplotlib.rcParams[\"savefig.facecolor\"] = \"white\"\n",
    "import matplotlib.pyplot as plt\n",
    "import matplotlib.colors as mcolors\n",
    "%matplotlib inline\n",
    "import time\n",
    "from IPython import display\n",
    "import obsfit1d\n",
    "from scipy.interpolate import interp1d"
   ]
  },
  {
   "cell_type": "code",
   "execution_count": null,
   "metadata": {
    "autoscroll": false,
    "ein.tags": "worksheet-0",
    "slideshow": {
     "slide_type": "-"
    }
   },
   "outputs": [],
   "source": [
    "# 2D run data:\n",
    "basedir = '/srv/ccrc/data03/z3500785/dedalus_Slope_Tracer/saveRUNS/prodruns24-5-19/';\n",
    "run = [basedir + 'z0_0p5000_AH_000_Kinf_m5_ADV_2_slope_400/'];\n",
    "params = np.load(run[0] + 'runparams.npz');locals().update(params)\n",
    "b = np.linspace(0,N2*np.cos(theta)*Lz + N2*np.sin(theta)*Ly,64);db = b[1]-b[0]\n",
    "ba = (b[:-1]+b[1:])/2\n",
    "\n",
    "with h5py.File(run[0] + 'ifields.h5', mode='r') as file:\n",
    "    B = file['tasks']['B'][0,:,:]\n",
    "    B = (B[1:,:] + B[:-1,:])/2\n",
    "    B = (B[:,1:] + B[:,:-1])/2\n",
    "    y = file['scales/y/1.0'][:];z = file['scales/z/1.0'][:];\n",
    "dy = y[1:]-y[:-1];dz = z[1:]-z[:-1];\n",
    "dA = np.tile(dy,[len(z)-1,1]).T*np.tile(dz,[len(y)-1,1]);\n",
    "\n",
    "with h5py.File(run[0] + 'snapshots.h5', mode='r') as file:\n",
    "\n",
    "    t = file['scales/sim_time'][:]/lday;\n",
    "    trT = file['tasks']['trT'][:,0,0]\n",
    "    trF = np.zeros((len(b)-1,len(t)))\n",
    "    for i in range(0,len(t)):#len(t),pfr):\n",
    "        tr = file['tasks']['tr'][i,:,:]\n",
    "        tr = (tr[1:,:] + tr[:-1,:])/2\n",
    "        tr = (tr[:,1:] + tr[:,:-1])/2\n",
    "        tr = tr*dA\n",
    "        trF[:,i] = [np.sum(tr[np.logical_and(B>=bi,B<(bi+db))])/db for bi in b[:-1]]\n",
    "\n",
    "zF = (b[1:]+b[:-1])/2/N2;\n",
    "dzF = zF[1]-zF[0]\n",
    "tF = t;\n",
    "\n",
    "imax = np.argmax(trF[:,0])\n",
    "zF = zF - zF[imax]\n",
    "trF = trF/np.sum(trF[imax,0]*dzF)"
   ]
  },
  {
   "cell_type": "code",
   "execution_count": null,
   "metadata": {
    "autoscroll": false,
    "ein.tags": "worksheet-0",
    "slideshow": {
     "slide_type": "-"
    }
   },
   "outputs": [],
   "source": [
    "import imp\n",
    "imp.reload(obsfit1d)"
   ]
  },
  {
   "cell_type": "code",
   "execution_count": null,
   "metadata": {
    "autoscroll": false,
    "ein.tags": "worksheet-0",
    "slideshow": {
     "slide_type": "-"
    }
   },
   "outputs": [],
   "source": [
    "res = obsfit1d.fit3par(zF,trF[:,-1],int(tF[-1]*1e5),sz)\n",
    "\n",
    "# Plotting for check:\n",
    "Lh = 4000. # Max size of h-grid\n",
    "n = 200 # Number of h-points\n",
    "dt = int(1e5) # Time-step\n",
    "h = np.linspace(-Lh/2.,Lh/2.,n)\n",
    "dh = h[1]-h[0]\n",
    "\n",
    "trI = np.exp(-h**2/2/sz**2)\n",
    "trI = trI / np.sum(trI*dh)\n",
    "\n",
    "# Observed tracer distribution on grid:\n",
    "f = interp1d(zF,trF[:,-1],fill_value=0.)\n",
    "trO = np.zeros_like(h)\n",
    "in_range = np.logical_and(h>=np.min(zF),h <= np.max(zF))\n",
    "trO[in_range] = f(h[in_range])\n",
    "trO = trO / np.sum(trO*dh)\n",
    "\n",
    "A = obsfit1d.operator(res.x[0],res.x[1],res.x[2])\n",
    "trM = obsfit1d.solve(A,int(tF[-1]*1e5) // dt, trI)\n",
    "\n",
    "f = plt.figure(figsize=(7.5,5),facecolor='white')\n",
    "#plt.plot(trI,h,'-r')\n",
    "plt.plot(trO,h,'-k')\n",
    "plt.plot(trM,h,'-b')\n",
    "print(res.x)\n"
   ]
  },
  {
   "cell_type": "code",
   "execution_count": null,
   "metadata": {
    "autoscroll": false,
    "ein.tags": "worksheet-0",
    "slideshow": {
     "slide_type": "-"
    }
   },
   "outputs": [],
   "source": [
    "# Input h Grid\n",
    "Lh = 2000.;n = 200\n",
    "h = np.linspace(-Lh/2.,Lh/2.,n)\n",
    "dh = h[1]-h[2]\n",
    "\n",
    "# Initial Condition:\n",
    "#sh = sz; # from 2D problem Initial condition.\n",
    "sh = Lh/20.;\n",
    "ch = 0.;\n",
    "trI = np.exp(-(h-ch)**2/2/sh**2)/np.sqrt(2*np.pi*sh**2)\n",
    "\n",
    "# Time information:\n",
    "dt = 1.e5 # seconds\n",
    "nt = 2000 # Number of iterations\n",
    "\n",
    "# Input parameters\n",
    "w = 0.0#1.0e-6\n",
    "K0 = 2e-4\n",
    "Kh = 1.e-7\n",
    "\n",
    "# Solve:\n",
    "tr = Solve1D.solve(Lh,n,dt,nt,K0,Kh,w,trI)\n",
    "print(Solve1D.chisq(tr,trI))\n",
    "\n",
    "plt.plot(trI,h)\n",
    "plt.plot(tr,h,'-r')"
   ]
  },
  {
   "cell_type": "code",
   "execution_count": null,
   "metadata": {
    "autoscroll": false,
    "ein.tags": "worksheet-0",
    "slideshow": {
     "slide_type": "-"
    }
   },
   "outputs": [],
   "source": []
  }
 ],
 "metadata": {
  "kernelspec": {
   "display_name": "Python 3",
   "name": "python3"
  },
  "language_info": {
   "codemirror_mode": {
    "name": "ipython",
    "version": 3
   },
   "file_extension": ".py",
   "mimetype": "text/x-python",
   "name": "python",
   "nbconvert_exporter": "python",
   "pygments_lexer": "ipython3",
   "version": "3.5.2"
  },
  "name": "Optimize_1DBuoyancy.ipynb"
 },
 "nbformat": 4,
 "nbformat_minor": 1
}
