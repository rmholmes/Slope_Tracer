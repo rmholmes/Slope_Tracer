{
 "cells": [
  {
   "cell_type": "markdown",
   "metadata": {
    "ein.tags": "worksheet-0",
    "slideshow": {
     "slide_type": "-"
    }
   },
   "source": [
    "# Estimate diffusivity parameters from 1D b-space optimization\n",
    "## Ryan Holmes"
   ]
  },
  {
   "cell_type": "code",
   "execution_count": null,
   "metadata": {
    "autoscroll": false,
    "ein.hycell": false,
    "ein.tags": "worksheet-0",
    "slideshow": {
     "slide_type": "-"
    }
   },
   "outputs": [],
   "source": [
    "# Load modules\n",
    "import numpy as np\n",
    "import h5py\n",
    "import matplotlib\n",
    "import shutil\n",
    "import os\n",
    "from matplotlib import rc\n",
    "#rc('font',**{'family':'sans-serif','sans-serif':['Helvetica']})\n",
    "rc('text', usetex=True)\n",
    "matplotlib.rcParams[\"figure.facecolor\"] = \"white\"\n",
    "matplotlib.rcParams[\"axes.facecolor\"] = \"white\"\n",
    "matplotlib.rcParams[\"savefig.facecolor\"] = \"white\"\n",
    "import matplotlib.pyplot as plt\n",
    "import matplotlib.colors as mcolors\n",
    "%matplotlib inline\n",
    "import time\n",
    "from IPython import display\n",
    "import obsfit1d\n",
    "from scipy.interpolate import interp1d\n",
    "import bbin"
   ]
  },
  {
   "cell_type": "code",
   "execution_count": null,
   "metadata": {
    "autoscroll": false,
    "ein.hycell": false,
    "ein.tags": "worksheet-0",
    "slideshow": {
     "slide_type": "-"
    }
   },
   "outputs": [],
   "source": [
    "# Do a single run for checks:\n",
    "# basedir = '/srv/ccrc/data03/z3500785/dedalus_Slope_Tracer/saveRUNS/prodruns24-5-19/';\n",
    "# basedir = '/srv/ccrc/data03/z3500785/dedalus_Slope_Tracer/saveRUNS/prodruns_wide30-5-19/';\n",
    "basedir = '/srv/ccrc/data03/z3500785/dedalus_Slope_Tracer/saveRUNS/prodruns_bIC30-5-19/';\n",
    "# run = basedir + 'z0_0p1250_AH_000_Kinf_m5_ADV_2_slope_400/'#_4dt_2dz/'\n",
    "run = basedir + 'ADV_2_AH_010_slope_200_maxy_10000000_miny_600/'\n",
    "\n",
    "# Get observed data:\n",
    "params = np.load(run + 'runparams.npz');locals().update(params)\n",
    "\n",
    "with h5py.File(run + 'ifields.h5', mode='r') as file:\n",
    "    y = file['scales/y/1.0'][:];z = file['scales/z/1.0'][:];\n",
    "\n",
    "#tinds = np.arange(0,100,10)\n",
    "#tinds = range(0,100,50)\n",
    "tinds = range(0,50)\n",
    "\n",
    "with h5py.File(run + 'snapshots.h5', mode='r') as file:\n",
    "\n",
    "    t = file['scales/sim_time'][:]/lday;\n",
    "    trT = file['tasks']['trT'][:,0,0]\n",
    "    tr = file['tasks']['tr'][0,:,:]\n",
    "    b, trC = bbin.trbinI(y,z,tr,N2,theta,Lz,Ly,q0)\n",
    "    trF = np.zeros((len(b),len(t)))\n",
    "    for i in tinds:#len(t),pfr):\n",
    "        if ((i % 10) == 0):\n",
    "            print('Doing b-profile time %03d of %03d, run %s' % (i, tinds[-1], run))\n",
    "        tr = file['tasks']['tr'][i,:,:]\n",
    "        b, trF[:,i] = bbin.trbinI(y,z,tr,N2,theta,Lz,Ly,q0)\n",
    "        \n",
    "\n",
    "zF = b/N2;\n",
    "dzF = zF[1]-zF[0]\n",
    "imax = np.argmax(trF[:,0])\n",
    "zF = zF - zF[imax]\n",
    "\n",
    "# Do 3-parameter fit:\n",
    "#tinds = range(0,len(t))\n",
    "K = [];Kh = [];w = [];func = [];suc = [];\n",
    "Kerr = []; Kherr = []; werr = [];msg = [];\n",
    "for ti in tinds:\n",
    "    if ((ti % 10) == 0):\n",
    "        print('Doing time %03d of %03d, run %s' % (ti, tinds[-1], run))\n",
    "    res = obsfit1d.fit3par(zF,trF[:,ti],trF[:,0],int(t[ti]*1e5))\n",
    "    obsfit1d.plot(res.x,zF,trF[:,ti],trF[:,0],int(t[ti]*1e5))\n",
    "    K.append(res.x[0])\n",
    "    Kh.append(res.x[1])\n",
    "    w.append(res.x[2])\n",
    "    Kerr.append(res.xerr[0])\n",
    "    Kherr.append(res.xerr[1])\n",
    "    werr.append(res.xerr[2])\n",
    "    suc.append(res.success)\n",
    "    func.append(res.fun)\n",
    "    msg.append(res.msg)\n",
    "\n",
    "K = np.array(K)\n",
    "Kerr = np.array(Kerr)\n",
    "Kh = np.array(Kh)\n",
    "Kherr = np.array(Kherr)\n",
    "\n",
    "f = plt.figure(figsize=(10,10),facecolor='white')\n",
    "plt.subplot(2,1,1)\n",
    "plt.plot(tinds,Kerr/K,'xk')\n",
    "#cor = [x <= 0.00001 for x in func]\n",
    "#incor = [x > 0.00001 for x in func]\n",
    "plt.subplot(2,1,2)\n",
    "tinds = np.array(tinds);\n",
    "plt.plot(t[tinds],-K,'xk');\n",
    "plt.plot(t[tinds],-(K+2*Kerr),'xr')\n",
    "plt.plot(t[tinds],-(K-2*Kerr),'xb')\n"
   ]
  },
  {
   "cell_type": "code",
   "execution_count": null,
   "metadata": {
    "autoscroll": false,
    "ein.hycell": false,
    "ein.tags": "worksheet-0",
    "slideshow": {
     "slide_type": "-"
    }
   },
   "outputs": [],
   "source": [
    "# Process multiple runs:\n",
    "basedir = '/srv/ccrc/data03/z3500785/dedalus_Slope_Tracer/saveRUNS/prodruns_layer30-08-18/';\n",
    "#basedir = '/srv/ccrc/data03/z3500785/dedalus_Slope_Tracer/saveRUNS/prodruns24-08-18/';\n",
    "# folds = [basedir + x + '/' for x in os.listdir(basedir)]\n",
    "# folds = folds[-10:]\n",
    "#folds = [basedir + 'AH_%03d_ADV_2_Kinf_m5_mny0_0p5333_slope_200_isoAH/' % x for x in [0.,10.,20.,30.,40.,50.,60.,70.,80.,90.]]#,125,175,200)]\n",
    "folds = [basedir + 'AH_%03d_ADV_2_Kinf_m5_mny0_0p5333_slope_200_isoAH_Lz4000/' % x for x in [100.,125.,175.,200.]]\n",
    "# folds = [basedir + 'AH_%03d_ADV_2_Kinf_m5_mny0_0p4667_slope_200_isoAH/' % x for x in [10.]]#,20,30,40,50,60,70,80,90,125,175,200)]\n",
    "folds\n",
    "\n",
    "tfin = 101;\n",
    "\n",
    "for run in folds:\n",
    "\n",
    "    # Get observed data:\n",
    "    params = np.load(run + 'runparams.npz');locals().update(params)\n",
    "\n",
    "    with h5py.File(run + 'ifields.h5', mode='r') as file:\n",
    "        y = file['scales/y/1.0'][:];z = file['scales/z/1.0'][:];\n",
    "\n",
    "    with h5py.File(run + 'snapshots.h5', mode='r') as file:\n",
    "\n",
    "        t = file['scales/sim_time'][:]/lday;\n",
    "        trT = file['tasks']['trT'][:,0,0]\n",
    "        tr = file['tasks']['tr'][0,:,:]\n",
    "        b, trC = bbin.trbinI(y,z,tr,N2,theta,Lz,Ly,q0,Kinf,K0,d,SPru0i)\n",
    "        trF = np.zeros((len(b),tfin))\n",
    "        for i in range(0,tfin):#len(t),pfr):\n",
    "            if ((i % 10) == 0):\n",
    "                print('Doing b-profile time %03d of %03d, run %s' % (i, tfin, run))\n",
    "            tr = file['tasks']['tr'][i,:,:]\n",
    "            b, trF[:,i] = bbin.trbinI(y,z,tr,N2,theta,Lz,Ly,q0,Kinf,K0,d,SPru0i)\n",
    "\n",
    "    zF = b/N2;\n",
    "    dzF = zF[1]-zF[0]\n",
    "    imax = np.argmax(trF[:,0])\n",
    "    zF = zF - zF[imax]\n",
    "\n",
    "    # Do 3-parameter fit:\n",
    "    tinds = range(0,tfin)\n",
    "    K = [];Kh = [];w = [];func = [];suc = [];\n",
    "    Kerr = []; Kherr = []; werr = [];\n",
    "    for ti in tinds:\n",
    "        if ((ti % 10) == 0):\n",
    "            print('Doing time %03d of %03d, run %s' % (ti, tfin, run))\n",
    "        res = obsfit1d.fit3par(zF,trF[:,ti],trF[:,0],int(t[ti]*1e5))\n",
    "        # obsfit1d.plot(res.x,zF,trF[:,ti],trF[:,0],int(t[ti]*1e5))\n",
    "        K.append(res.x[0])\n",
    "        Kh.append(res.x[1])\n",
    "        w.append(res.x[2])\n",
    "        Kerr.append(res.xerr[0])\n",
    "        Kherr.append(res.xerr[1])\n",
    "        werr.append(res.xerr[2])\n",
    "        suc.append(res.success)\n",
    "        func.append(res.fun)\n",
    "\n",
    "    # Save to file:\n",
    "    np.savez(run + 'par3fitGOODINI',K=K,Kh=Kh,w=w,func=func,suc=suc,Kerr=Kerr,Kherr=Kherr,werr=werr,t = t[tinds])"
   ]
  },
  {
   "cell_type": "code",
   "execution_count": null,
   "metadata": {
    "autoscroll": false,
    "ein.tags": "worksheet-0",
    "slideshow": {
     "slide_type": "-"
    }
   },
   "outputs": [],
   "source": []
  }
 ],
 "metadata": {
  "kernelspec": {
   "display_name": "Python 3",
   "name": "python3"
  },
  "language_info": {
   "codemirror_mode": {
    "name": "ipython",
    "version": 3
   },
   "file_extension": ".py",
   "mimetype": "text/x-python",
   "name": "python",
   "nbconvert_exporter": "python",
   "pygments_lexer": "ipython3",
   "version": "3.5.2"
  },
  "name": "Optimize_1DBuoyancy.ipynb"
 },
 "nbformat": 4,
 "nbformat_minor": 1
}
