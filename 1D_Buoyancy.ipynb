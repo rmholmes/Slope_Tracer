{
 "cells": [
  {
   "cell_type": "markdown",
   "metadata": {
    "ein.tags": "worksheet-0",
    "slideshow": {
     "slide_type": "-"
    }
   },
   "source": [
    "# One-dimensional buyancy space adv-diffusion for diagnostics\n",
    "## Ryan Holmes"
   ]
  },
  {
   "cell_type": "code",
   "execution_count": null,
   "metadata": {
    "autoscroll": false,
    "ein.tags": "worksheet-0",
    "slideshow": {
     "slide_type": "-"
    }
   },
   "outputs": [],
   "source": [
    "# Load modules\n",
    "import numpy as np\n",
    "import h5py\n",
    "import matplotlib\n",
    "import shutil\n",
    "import os\n",
    "from matplotlib import rc\n",
    "#rc('font',**{'family':'sans-serif','sans-serif':['Helvetica']})\n",
    "rc('text', usetex=True)\n",
    "matplotlib.rcParams[\"figure.facecolor\"] = \"white\"\n",
    "matplotlib.rcParams[\"axes.facecolor\"] = \"white\"\n",
    "matplotlib.rcParams[\"savefig.facecolor\"] = \"white\"\n",
    "import matplotlib.pyplot as plt\n",
    "import matplotlib.colors as mcolors\n",
    "%matplotlib inline\n",
    "from mpi4py import MPI\n",
    "from scipy.special import erf\n",
    "from scipy.interpolate import spline\n",
    "\n",
    "import time\n",
    "from IPython import display\n",
    "\n",
    "from dedalus import public as de\n",
    "from dedalus.extras import flow_tools\n",
    "\n",
    "import logging\n",
    "logger = logging.getLogger(__name__)\n",
    "\n",
    "from dedalus.tools import post\n",
    "import pathlib\n",
    "from dedalus.extras import plot_tools"
   ]
  },
  {
   "cell_type": "code",
   "execution_count": null,
   "metadata": {
    "autoscroll": false,
    "ein.tags": "worksheet-0",
    "slideshow": {
     "slide_type": "-"
    }
   },
   "outputs": [],
   "source": [
    "# 2D run data:\n",
    "basedir = '/srv/ccrc/data03/z3500785/dedalus_Slope_Tracer/saveRUNS/prodruns24-5-19/';\n",
    "run = [basedir + 'z0_0p5000_AH_000_Kinf_m5_ADV_2_slope_400/'];\n",
    "params = np.load(run[0] + 'runparams.npz');locals().update(params)\n",
    "b = np.linspace(0,N2*np.cos(theta)*Lz + N2*np.sin(theta)*Ly,64);db = b[1]-b[0]\n",
    "ba = (b[:-1]+b[1:])/2\n",
    "\n",
    "with h5py.File(run[0] + 'ifields.h5', mode='r') as file:\n",
    "    B = file['tasks']['B'][0,:,:]\n",
    "    B = (B[1:,:] + B[:-1,:])/2\n",
    "    B = (B[:,1:] + B[:,:-1])/2\n",
    "    y = file['scales/y/1.0'][:];z = file['scales/z/1.0'][:];\n",
    "dy = y[1:]-y[:-1];dz = z[1:]-z[:-1];\n",
    "dA = np.tile(dy,[len(z)-1,1]).T*np.tile(dz,[len(y)-1,1]);\n",
    "\n",
    "with h5py.File(run[0] + 'snapshots.h5', mode='r') as file:\n",
    "\n",
    "    t = file['scales/sim_time'][:]/lday;\n",
    "    trT = file['tasks']['trT'][:,0,0]\n",
    "    trF = np.zeros((len(b)-1,len(t)))\n",
    "    for i in range(0,len(t)):#len(t),pfr):\n",
    "        tr = file['tasks']['tr'][i,:,:]\n",
    "        tr = (tr[1:,:] + tr[:-1,:])/2\n",
    "        tr = (tr[:,1:] + tr[:,:-1])/2\n",
    "        tr = tr*dA\n",
    "        trF[:,i] = [np.sum(tr[np.logical_and(B>=bi,B<(bi+db))])/db for bi in b[:-1]]\n",
    "\n",
    "zF = (b[1:]+b[:-1])/2/N2;\n",
    "dzF = zF[1]-zF[0]\n",
    "tF = t;\n",
    "\n",
    "imax = np.argmax(trF[:,0])\n",
    "zF = zF - zF[imax]\n",
    "trF = trF/np.sum(trF[imax,0]*dzF)"
   ]
  },
  {
   "cell_type": "code",
   "execution_count": null,
   "metadata": {
    "autoscroll": false,
    "ein.tags": "worksheet-0",
    "slideshow": {
     "slide_type": "-"
    }
   },
   "outputs": [],
   "source": [
    "# Simple 3-parameter moments method:\n",
    "DT = 5*360. # estimate after one-year\n",
    "\n",
    "basedir = '/srv/ccrc/data03/z3500785/dedalus_Slope_Tracer/saveRUNS/prodruns24-5-19/';\n",
    "run = [basedir + 'z0_0p5000_AH_000_Kinf_m5_ADV_2_slope_400/'];\n",
    "params = np.load(run[0] + 'runparams.npz');locals().update(params)\n",
    "\n",
    "with h5py.File(run[0] + 'snapshots.h5', mode='r') as file:\n",
    "    t = file['scales/sim_time'][:]/lday;\n",
    "    trT = file['tasks']['trT'][:,0,0]\n",
    "    zm1 = file['tasks']['bm1i'][:,0,0]/N2\n",
    "    zm2 = file['tasks']['bm2i'][:,0,0]/N2/N2\n",
    "    zm3 = file['tasks']['bm3i'][:,0,0]/N2/N2/N2\n",
    "    zm4 = file['tasks']['bm4i'][:,0,0]/N2/N2/N2/N2\n",
    "\n",
    "imax = np.argmin(abs(t-DT));\n",
    "\n",
    "A = (zm1[imax]-zm1[0])/trT[0]/(DT*lday) # wd (1st 2 moments), or wd - dK/dz (2nd 2 moments)\n",
    "\n",
    "# Just first two moments (no dK/dz):\n",
    "wd = A\n",
    "K0 = (zm2[imax]-zm2[0] - 2*A*DT*lday*zm1[0]-A*A*trT[0]*DT*DT*lday*lday)/(2*DT*lday*trT[0])\n",
    "\n",
    "\n",
    "\n",
    "# # B = D + E*K0:\n",
    "# D = (zm2[imax]-zm2[0])/(2*DT*lday*zm1[0]+A*trT[0]*DT*DT*lday*lday)\n",
    "# E = -(2*DT*lday*trT[0])/(2*DT*lday*zm1[0]+A*trT[0]*DT*DT*lday*lday)\n",
    "\n",
    "# #\n",
    "\n",
    "# Eq1 = (zm2[imax]-zm2[0]) = K0*(2*DT*lday*trT[0]) + B*(2*DT*lday*zm1[0]+A*trT[0]*DT*DT*lday*lday)\n",
    "# Eq2 = (zm3[imax]-zm3[0]) = \n"
   ]
  },
  {
   "cell_type": "code",
   "execution_count": null,
   "metadata": {
    "autoscroll": false,
    "ein.tags": "worksheet-0",
    "slideshow": {
     "slide_type": "-"
    }
   },
   "outputs": [],
   "source": [
    "# Input Grids and parameters ------------------------------------------------------------\n",
    "Lh = 3200.\n",
    "h_basis = de.Fourier('h', 128, interval=(-Lh/2,Lh/2))#, dealias=3/2)\n",
    "domain = de.Domain([h_basis], grid_dtype=np.float64)\n",
    "h = domain.grid(0)\n",
    "\n",
    "N2 = 1.0e-6\n",
    "#wd = 5.e-7#1.0e-7\n",
    "#K0 = 2e-4\n",
    "Kh = 0.#0.5*(2*K0/Lh)\n",
    "print('%3.2f * 10^-7' % (Kh*1.e7))\n",
    "\n",
    "# Equations and Solver\n",
    "problem = de.IVP(domain, variables=['tr','trh'])\n",
    "problem.meta[:]['h']['dirichlet'] = True\n",
    "\n",
    "problem.parameters['K0'] = K0\n",
    "problem.parameters['Kh'] = Kh\n",
    "problem.parameters['wd'] = wd\n",
    "problem.add_equation(\"dt(tr) + (wd-Kh)*trh - K0*dh(trh) = Kh*h*dh(trh)\")\n",
    "problem.add_equation(\"trh - dh(tr) = 0\")\n",
    "\n",
    "# Build solver\n",
    "solver = problem.build_solver(de.timesteppers.RK222)\n",
    "logger.info('Solver built')\n",
    "\n",
    "# Initial condition:\n",
    "tr = solver.state['tr']\n",
    "trh = solver.state['trh']\n",
    "\n",
    "# Gaussian:\n",
    "sh = sz; # from 2D problem Initial condition.\n",
    "#sh = Lh/20.;\n",
    "ch = 0.;\n",
    "tr['g'] = np.exp(-(h-ch)**2/2/sh**2)/np.sqrt(2*np.pi*sh**2)\n",
    "tr.differentiate('h',out=trh)\n",
    "\n",
    "# From 2D problem:\n",
    "# tr['g'] = np.interp(h,zF-zF[imax],trF[:,0]/np.sum(trF[:,0]*dzF),left=0.,right=0.)\n",
    "# #tr['g'][tr['g']<0] = 0.\n",
    "\n",
    "# Integration parameters\n",
    "lday = 1.0e5 # A \"long-day\" unit (86400 ~= 100000)\n",
    "dt=1*lday\n",
    "Ttot = 360.*5\n",
    "solver.stop_sim_time = np.inf\n",
    "solver.stop_wall_time = np.inf \n",
    "solver.stop_iteration = Ttot*lday/dt\n",
    "sfreq = 2\n",
    "Itot = solver.stop_iteration\n",
    "\n",
    "## Analysis\n",
    "snapshots = solver.evaluator.add_file_handler('snapshots', iter=sfreq, max_writes=20000)\n",
    "snapshots.add_system(solver.state, layout='g')\n",
    "snapshots.add_task(\"integ(tr,'h')\", layout='g', name = 'hm0')\n",
    "snapshots.add_task(\"integ(tr*h,'h')\", layout='g', name = 'hm1')\n",
    "snapshots.add_task(\"integ(tr*h*h,'h')\", layout='g', name = 'hm2')"
   ]
  },
  {
   "cell_type": "code",
   "execution_count": null,
   "metadata": {
    "autoscroll": false,
    "ein.tags": "worksheet-0",
    "slideshow": {
     "slide_type": "-"
    }
   },
   "outputs": [],
   "source": [
    "# Setup figure:\n",
    "h = domain.grid(0,scales=domain.dealias)\n",
    "f = plt.figure(figsize=(10,10), facecolor='w')\n",
    "ax = plt.subplot(1,1,1)\n",
    "p, = ax.plot(tr['g'],h,'-k')\n",
    "po, = ax.plot(trF[:,0],zF,'-r')\n",
    "#ax.set_xlim([0.,0.5])\n",
    "ax.set_ylim([h[0],h[-1]])\n",
    "\n",
    "# Main loop\n",
    "try:\n",
    "    logger.info('Starting loop')\n",
    "    start_time = time.time()\n",
    "    while solver.ok:\n",
    "        solver.step(dt)\n",
    "        # if (solver.iteration-1) % 100 == 0:\n",
    "        #     logger.info('Iteration: %i, Time: %e, dt: %e' %(solver.iteration, solver.sim_time, dt))\n",
    "        if (solver.iteration-1) % 100 == 0:\n",
    "            p.set_xdata(tr['g'])\n",
    "            ind = np.argmin(np.abs(tF*lday - solver.iteration*dt))\n",
    "            po.set_xdata(trF[:,ind])\n",
    "            display.clear_output()\n",
    "            display.display(plt.gcf())\n",
    "except:\n",
    "    logger.error('Exception raised, triggering end of main loop.')\n",
    "    raise\n",
    "finally:\n",
    "    end_time = time.time()\n",
    "\n",
    "    logger.info('Iterations: %i' %solver.iteration)\n",
    "    logger.info('Sim end time: %f' %solver.sim_time)\n",
    "    logger.info('Run time: %.2f sec' %(end_time-start_time))\n",
    "    logger.info('Run time: %f cpu-hr' %((end_time-start_time)/60/60*domain.dist.comm_cart.size))"
   ]
  },
  {
   "cell_type": "code",
   "execution_count": null,
   "metadata": {
    "autoscroll": false,
    "ein.tags": "worksheet-0",
    "slideshow": {
     "slide_type": "-"
    }
   },
   "outputs": [],
   "source": []
  }
 ],
 "metadata": {
  "kernelspec": {
   "display_name": "Python 3",
   "language": "python",
   "name": "python3"
  },
  "language_info": {
   "codemirror_mode": {
    "name": "ipython",
    "version": 3
   },
   "file_extension": ".py",
   "mimetype": "text/x-python",
   "name": "python",
   "nbconvert_exporter": "python",
   "pygments_lexer": "ipython3",
   "version": "3.5.2"
  },
  "name": "1D_Buoyancy.ipynb"
 },
 "nbformat": 4,
 "nbformat_minor": 1
}
